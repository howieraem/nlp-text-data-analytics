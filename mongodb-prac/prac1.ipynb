{
 "cells": [
  {
   "cell_type": "markdown",
   "metadata": {
    "tags": []
   },
   "source": [
    "# MongoDB Exercise"
   ]
  },
  {
   "cell_type": "markdown",
   "metadata": {},
   "source": [
    "## Setup\n",
    "---\n",
    "\n",
    "Before running the following cell, make sure that you have the correct login information in the `credentials_mongodb.json` file:\n",
    "\n",
    "> You should be careful where your credentials file is `credentials_mongodb.json`. Revise concepts on absolute path and relative path. \n"
   ]
  },
  {
   "cell_type": "code",
   "execution_count": 1,
   "metadata": {},
   "outputs": [],
   "source": [
    "from pymongo import MongoClient\n",
    "import json\n",
    "import urllib.parse\n",
    "\n",
    "with open('credentials_mongodb.json') as f:\n",
    "    login = json.load(f)\n",
    "\n",
    "username = login['username']\n",
    "password = urllib.parse.quote(login['password'])\n",
    "host = login['host']\n",
    "url = \"mongodb+srv://{}:{}@{}/?retryWrites=true&w=majority\".format(username, password, host)\n",
    "client = MongoClient(url)"
   ]
  },
  {
   "cell_type": "markdown",
   "metadata": {
    "tags": []
   },
   "source": [
    "## Exercise 1: Getting to know your MongoDB databases\n",
    "---"
   ]
  },
  {
   "cell_type": "markdown",
   "metadata": {},
   "source": [
    "List the databases that exist on your MongoDB Atlas cluster after loading sample databases. You can do this either by checking out the databases using Compass or by using `pymongo`'s `.list_database_names()` method."
   ]
  },
  {
   "cell_type": "code",
   "execution_count": 2,
   "metadata": {
    "tags": []
   },
   "outputs": [
    {
     "data": {
      "text/plain": [
       "['sample_airbnb',\n",
       " 'sample_analytics',\n",
       " 'sample_geospatial',\n",
       " 'sample_guides',\n",
       " 'sample_mflix',\n",
       " 'sample_restaurants',\n",
       " 'sample_supplies',\n",
       " 'sample_training',\n",
       " 'sample_weatherdata',\n",
       " 'admin',\n",
       " 'local']"
      ]
     },
     "execution_count": 2,
     "metadata": {},
     "output_type": "execute_result"
    }
   ],
   "source": [
    "client.list_database_names()"
   ]
  },
  {
   "cell_type": "markdown",
   "metadata": {},
   "source": [
    "List the collections stored in the `sample_mflix` and `sample_airbnb` databases. You can do this either by checking out the databases using Compass or by using `pymongo`'s `.list_collection_names()` method."
   ]
  },
  {
   "cell_type": "code",
   "execution_count": 3,
   "metadata": {
    "tags": []
   },
   "outputs": [
    {
     "name": "stdout",
     "output_type": "stream",
     "text": [
      "mflix DB collections: ['theaters', 'movies', 'users', 'embedded_movies', 'comments', 'sessions']\n",
      "\n",
      "airbnb DB collections: ['listingsAndReviews']\n",
      "\n"
     ]
    }
   ],
   "source": [
    "mflix_collections = client['sample_mflix'].list_collection_names()\n",
    "print('mflix DB collections: %s\\n' % str(mflix_collections))\n",
    "airbnb_collections = client['sample_airbnb'].list_collection_names()\n",
    "print('airbnb DB collections: %s\\n' % str(airbnb_collections))"
   ]
  },
  {
   "cell_type": "markdown",
   "metadata": {
    "tags": []
   },
   "source": [
    "## Exercise 2: Basic MongoDB queries\n",
    "---"
   ]
  },
  {
   "cell_type": "markdown",
   "metadata": {},
   "source": [
    "Retrieve one (random) document associated with a movie produced in 2015.\n",
    "\n",
    "You can use `.find_one()` method to do this, or use `.find()` but limit your results to 1 document."
   ]
  },
  {
   "cell_type": "code",
   "execution_count": 4,
   "metadata": {
    "tags": []
   },
   "outputs": [
    {
     "name": "stdout",
     "output_type": "stream",
     "text": [
      "{'_id': ObjectId('573a13f7f29313caabde71b9'), 'plot': 'Human nature begins where truth ends Welcome to the murder without a body', 'genres': ['Crime', 'Drama', 'Mystery'], 'runtime': 126, 'cast': ['Elaine Jin', 'Aaron Kwok', 'Jessie Li', 'Michael Ning'], 'num_mflix_comments': 0, 'title': 'Port of Call', 'fullplot': 'Human nature begins where truth ends Welcome to the murder without a body', 'languages': ['Cantonese'], 'released': datetime.datetime(2015, 6, 26, 0, 0), 'directors': ['Philip Yung'], 'writers': ['Philip Yung'], 'awards': {'wins': 3, 'nominations': 0, 'text': '3 wins.'}, 'lastupdated': '2015-08-06 00:56:04.570000000', 'year': 2015, 'imdb': {'rating': 6.7, 'votes': 25, 'id': 4417522}, 'countries': ['Hong Kong'], 'type': 'movie'}\n"
     ]
    }
   ],
   "source": [
    "from random import randint\n",
    "\n",
    "movies_collection = client['sample_mflix']['movies']\n",
    "# random_movie_2015 = movies_collection.find_one({'year': 2015})\n",
    "count_movies_2015 = movies_collection.count_documents({'year': 2015})\n",
    "random_movie_2015 = movies_collection.find(\n",
    "    {'year': 2015}).skip(randint(0, count_movies_2015 - 1)).limit(1)[0]\n",
    "print(random_movie_2015)"
   ]
  },
  {
   "cell_type": "markdown",
   "metadata": {},
   "source": [
    "Retrieve all TV series produced in 1995.\n",
    "\n",
    "> **Hint:** Inspect possible values for the `type` field."
   ]
  },
  {
   "cell_type": "code",
   "execution_count": 5,
   "metadata": {
    "tags": []
   },
   "outputs": [
    {
     "name": "stdout",
     "output_type": "stream",
     "text": [
      "{'_id': ObjectId('573a13dff29313caabdb76d3'), 'plot': 'The citizens of the small British town of Pagford fight for the spot on the parish council after Barry Fairbrother dies.', 'genres': ['Crime', 'Drama', 'Mystery'], 'runtime': 180, 'cast': ['Silas Carson', 'Joe Hurst', 'Michael Gambon', 'Rory Kinnear'], 'poster': 'https://m.media-amazon.com/images/M/MV5BMTkyNDgzOTcwNV5BMl5BanBnXkFtZTgwMTk4MDI1NTE@._V1_SY1000_SX677_AL_.jpg', 'title': 'The Casual Vacancy', 'fullplot': 'When Parish Councilman Barry Fairbrother unexpectedly dies in his early forties, the town of Pagford is left in shock. An English idyll, with a cobbled market square and an ancient abbey, Pagford is not what it first seems. What lies behind the pretty facade is a town at war - rich at war with poor, teenagers at war with their parents, wives at war with their husbands, teachers at war with their pupils. And the empty seat left by Barry on the parish council soon becomes the catalyst for the biggest battle the town has yet seen. Who will triumph in an election fraught with passion, duplicity and unexpected revelations?', 'languages': ['English'], 'released': datetime.datetime(2015, 4, 29, 0, 0), 'awards': {'wins': 0, 'nominations': 1, 'text': '1 nomination.'}, 'lastupdated': '2015-08-23 00:47:43.937000000', 'year': 2015, 'imdb': {'rating': 6.6, 'votes': 1543, 'id': 2554946}, 'countries': ['UK'], 'type': 'series', 'tomatoes': {'viewer': {'rating': 2.5, 'numReviews': 41, 'meter': 0}, 'website': 'http://www.nedtheband.com/', 'production': 'Candy Factory Distribution', 'lastUpdated': datetime.datetime(2015, 8, 24, 18, 55, 58)}, 'num_mflix_comments': 0}\n",
      "\n",
      "{'_id': ObjectId('573a13e9f29313caabdcc269'), 'plot': \"The story behind Hitler's plan of Germany getting the atomic bomb during WW2, and the heavy water sabotages in Rjukan, Norway, seen from four angles, the German side, the allied, the saboteurs and the company side.\", 'genres': ['Drama', 'History', 'War'], 'runtime': 45, 'cast': ['Andreas Dèhler', 'Robert Hunger-Bèhler', 'Marc Benjamin Puch', 'Christoph Bach'], 'num_mflix_comments': 3, 'poster': 'https://m.media-amazon.com/images/M/MV5BMTU4NTU0NDc5OV5BMl5BanBnXkFtZTgwMjc0ODk1NTE@._V1_SY1000_SX677_AL_.jpg', 'title': 'The Saboteurs', 'fullplot': \"The story behind Hitler's plan of Germany getting the atomic bomb during WW2, and the heavy water sabotages in Rjukan, Norway, seen from four angles, the German side, the allied, the saboteurs and the company side.\", 'languages': ['Norwegian', 'English', 'German', 'Danish'], 'released': datetime.datetime(2015, 1, 4, 0, 0), 'awards': {'wins': 2, 'nominations': 0, 'text': '2 wins.'}, 'lastupdated': '2015-09-07 00:56:17.810000000', 'year': 2015, 'imdb': {'rating': 8.4, 'votes': 1788, 'id': 3280150}, 'countries': ['Norway'], 'type': 'series'}\n",
      "\n",
      "{'_id': ObjectId('573a13eef29313caabdd513e'), 'plot': \"After the downfall of Cardinal Wolsey, his secretary, Thomas Cromwell, finds himself amongst the treachery and intrigue of King Henry VIII's court and soon becomes a close advisor to the King, a role fraught with danger.\", 'genres': ['Drama', 'History'], 'countries': ['UK'], 'cast': ['Mark Rylance', 'Damian Lewis', 'Claire Foy', 'Thomas Brodie-Sangster'], 'num_mflix_comments': 1, 'poster': 'https://m.media-amazon.com/images/M/MV5BMTAyNTc4ODIzMTZeQTJeQWpwZ15BbWU4MDI0OTA5Njcx._V1_SY1000_SX677_AL_.jpg', 'title': 'Wolf Hall', 'fullplot': 'England in the 1520s is a heartbeat from disaster. If the King dies without a male heir, the country could be destroyed by civil war. Henry VIII wants to annul his marriage of twenty years and marry Anne Boleyn. The Pope and most of Europe oppose him. Into this impass steps Thomas Cromwell: a wholly original man, a charmer, and a bully, both idealist and opportunist, astute in reading people, and implacable in his ambition. But Henry is volatile: one day tender, one day murderous. Cromwell helps him break the opposition, but what will be the price of his triumph?', 'languages': ['English'], 'released': datetime.datetime(2015, 4, 5, 0, 0), 'awards': {'wins': 0, 'nominations': 11, 'text': 'Nominated for 5 Primetime Emmys. Another 6 nominations.'}, 'lastupdated': '2015-08-26 01:36:20.977000000', 'year': 2015, 'imdb': {'rating': 8.3, 'votes': 3156, 'id': 3556920}, 'type': 'series'}\n",
      "\n",
      "{'_id': ObjectId('573a13f6f29313caabde56e0'), 'plot': 'Filmmaker Andrew Jarecki examines the complicated life of reclusive real estate icon, Robert Durst, the key suspect in a series of unsolved crimes.', 'genres': ['Documentary'], 'runtime': 279, 'cast': ['Robert Durst', 'Andrew Jarecki', 'Gary Napoli', 'Debra Kay Anderson'], 'num_mflix_comments': 0, 'poster': 'https://m.media-amazon.com/images/M/MV5BMjI0OTc3MzY5Ml5BMl5BanBnXkFtZTgwNjk3MDUyNDE@._V1_SY1000_SX677_AL_.jpg', 'title': 'The Jinx: The Life and Deaths of Robert Durst', 'fullplot': 'Filmmaker Andrew Jarecki examines the complicated life of reclusive real estate icon, Robert Durst, the key suspect in a series of unsolved crimes.', 'languages': ['English'], 'released': datetime.datetime(2015, 2, 8, 0, 0), 'rated': 'TV-14', 'awards': {'wins': 7, 'nominations': 0, 'text': 'Nominated for 6 Primetime Emmys. Another 1 win.'}, 'lastupdated': '2015-09-06 00:16:03.180000000', 'year': 2015, 'imdb': {'rating': 8.9, 'votes': 8969, 'id': 4299972}, 'countries': ['USA'], 'type': 'series'}\n",
      "\n"
     ]
    }
   ],
   "source": [
    "# print(movies_collection.distinct('type'))   # ['movie', 'series']\n",
    "tv_series = list(movies_collection.find({'year': 2015, 'type': 'series'}))\n",
    "for tv in tv_series:\n",
    "    print(tv)\n",
    "    print()"
   ]
  },
  {
   "cell_type": "markdown",
   "metadata": {},
   "source": [
    "Retrieve the title and cast of movies produced in 2010, but limit your results to 5 documents.\n",
    "\n",
    "> **Note:** Don't forget to exclude the `_id` field from your returned documents.\n",
    "\n",
    "> **Note:** The exact returned documents returned by `pymongo` might be different in different sessions and on different computers. This is perfectly fine."
   ]
  },
  {
   "cell_type": "code",
   "execution_count": 6,
   "metadata": {
    "tags": []
   },
   "outputs": [
    {
     "name": "stdout",
     "output_type": "stream",
     "text": [
      "{'cast': ['èva Gèbor', 'Istvèn Znamenèk', 'èkos Horvèth', 'Lia Pokorny'], 'title': 'Pèl Adrienn'}\n",
      "\n",
      "{'title': 'In My Sleep', 'cast': ['Philip Winchester', 'Tim Draxl', 'Lacey Chabert', 'Abigail Spencer']}\n",
      "\n",
      "{'cast': ['James Badge Dale', 'Joseph Mazzello', 'Jon Seda', 'Sebastian Bertoli'], 'title': 'The Pacific'}\n",
      "\n",
      "{'cast': ['Mandy Moore', 'Zachary Levi', 'Donna Murphy', 'Ron Perlman'], 'title': 'Tangled'}\n",
      "\n",
      "{'cast': ['Nikita Mikhalkov', 'Oleg Menshikov', 'Nadezhda Mikhalkova', 'Sergey Makovetskiy'], 'title': 'Utomlyonnye solntsem 2: Predstoyanie'}\n",
      "\n"
     ]
    }
   ],
   "source": [
    "movies = movies_collection.find(\n",
    "    {'year': 2010},\n",
    "    {'_id': 0, 'title': 1, 'cast': 1}\n",
    ").limit(5)\n",
    "for movie in movies:\n",
    "    print(movie)\n",
    "    print()"
   ]
  },
  {
   "cell_type": "markdown",
   "metadata": {},
   "source": [
    "Retrieve the top 15 movies produced in 2010 that have the longest duration. Exclude TV series from your results. The returned documents should only contain the `title` and `runtime` fields (exclude the `_id` field).\n",
    "\n",
    "> **Note:** It's ok if your results contain duplicate movies."
   ]
  },
  {
   "cell_type": "code",
   "execution_count": 7,
   "metadata": {
    "tags": []
   },
   "outputs": [
    {
     "name": "stdout",
     "output_type": "stream",
     "text": [
      "{'runtime': 272, 'title': 'Mysteries of Lisbon'}\n",
      "\n",
      "{'runtime': 181, 'title': 'Utomlyonnye solntsem 2: Predstoyanie'}\n",
      "\n",
      "{'runtime': 181, 'title': 'Aurora'}\n",
      "\n",
      "{'runtime': 180, 'title': 'Thorne: Sleepyhead'}\n",
      "\n",
      "{'runtime': 180, 'title': 'The Autobiography of Nicolae Ceausescu'}\n",
      "\n",
      "{'runtime': 178, 'title': 'Riverworld'}\n",
      "\n",
      "{'runtime': 174, 'title': 'Enthiran'}\n",
      "\n",
      "{'runtime': 170, 'title': 'Khaleja'}\n",
      "\n",
      "{'runtime': 170, 'title': 'We Believed'}\n",
      "\n",
      "{'title': 'My Name Is Khan', 'runtime': 165}\n",
      "\n",
      "{'runtime': 163, 'title': 'Moss'}\n",
      "\n",
      "{'runtime': 163, 'title': 'Raajneeti'}\n",
      "\n",
      "{'runtime': 160, 'title': 'Singam'}\n",
      "\n",
      "{'runtime': 159, 'title': 'Black Venus'}\n",
      "\n",
      "{'runtime': 157, 'title': 'Will You Cross the Skies for Me?'}\n",
      "\n"
     ]
    }
   ],
   "source": [
    "movies = movies_collection \\\n",
    "    .find({\"year\": 2010, \"type\": {\"$ne\": \"series\"}},\n",
    "          {\"_id\": 0, \"title\": 1, \"runtime\": 1}) \\\n",
    "    .sort(\"runtime\", -1).limit(15)\n",
    "\n",
    "for movie in movies:\n",
    "    print(movie)\n",
    "    print()"
   ]
  },
  {
   "cell_type": "markdown",
   "metadata": {},
   "source": [
    "For year 2015, return the number of movies with a metacritic rating of exactly 90."
   ]
  },
  {
   "cell_type": "code",
   "execution_count": 8,
   "metadata": {
    "tags": []
   },
   "outputs": [
    {
     "name": "stdout",
     "output_type": "stream",
     "text": [
      "1\n"
     ]
    }
   ],
   "source": [
    "count_2015_tomato_90 = movies_collection.count_documents({\"year\": 2015, \"tomatoes.critic.meter\": 90})\n",
    "print(count_2015_tomato_90)"
   ]
  },
  {
   "cell_type": "markdown",
   "metadata": {},
   "source": [
    "Retrieve the title and runtime of the 10 shortest movies in the `movies` collection.\n",
    "\n",
    "For this exercise, you need to make sure that the field `runtime` exists in the returned documents, otherwise by default those documents would appear first which don't have a `runtime` field at all!\n",
    "\n",
    "> **Hint:** You need the `$exists` operator (see [here](https://docs.mongodb.com/manual/reference/operator/query/exists/) for help)."
   ]
  },
  {
   "cell_type": "code",
   "execution_count": 9,
   "metadata": {
    "tags": []
   },
   "outputs": [
    {
     "name": "stdout",
     "output_type": "stream",
     "text": [
      "{'runtime': 1, 'title': 'Neko no shukai'}\n",
      "\n",
      "{'runtime': 1, 'title': 'The Kiss'}\n",
      "\n",
      "{'runtime': 1, 'title': 'The Kiss'}\n",
      "\n",
      "{'runtime': 2, 'title': 'Fresh Guacamole'}\n",
      "\n",
      "{'runtime': 2, 'title': 'Pixels'}\n",
      "\n",
      "{'runtime': 2, 'title': 'Game Over'}\n",
      "\n",
      "{'runtime': 2, 'title': 'Andrè and Wally B.'}\n",
      "\n",
      "{'runtime': 2, 'title': 'Luxo Jr.'}\n",
      "\n",
      "{'runtime': 3, 'title': 'Sisyphus'}\n",
      "\n",
      "{'runtime': 3, 'title': 'Gagarin'}\n",
      "\n"
     ]
    }
   ],
   "source": [
    "movies = movies_collection \\\n",
    "    .find({\"runtime\": {\"$exists\": True}}, {\"_id\": 0, \"title\": 1, \"runtime\": 1}) \\\n",
    "    .sort(\"runtime\", 1).limit(10)\n",
    "\n",
    "# Print the results\n",
    "for movie in movies:\n",
    "    print(movie)\n",
    "    print()"
   ]
  },
  {
   "cell_type": "markdown",
   "metadata": {
    "tags": []
   },
   "source": [
    "## Exercise 3: Conditionals, embedded documents & arrays\n",
    "---"
   ]
  },
  {
   "cell_type": "markdown",
   "metadata": {},
   "source": [
    "Retrieve the title, production year, and number of awards of all movies that\n",
    "\n",
    "- have been produced between 1950 and 2000 (inclusive)\n",
    "- have an IMDB rating of 8.5 or better\n",
    "- won at least 30 awards.\n",
    "\n",
    "Sort the results by production year in descending order."
   ]
  },
  {
   "cell_type": "code",
   "execution_count": 10,
   "metadata": {
    "tags": []
   },
   "outputs": [
    {
     "name": "stdout",
     "output_type": "stream",
     "text": [
      "{'year': 2000, 'title': 'Memento', 'awards': {'wins': 54}}\n",
      "\n",
      "{'year': 2000, 'title': 'Gladiator', 'awards': {'wins': 63}}\n",
      "\n",
      "{'year': 1999, 'title': 'The Matrix', 'awards': {'wins': 37}}\n",
      "\n",
      "{'year': 1998, 'title': 'Saving Private Ryan', 'awards': {'wins': 83}}\n",
      "\n",
      "{'title': 'Life Is Beautiful', 'awards': {'wins': 66}, 'year': 1997}\n",
      "\n",
      "{'year': 1997, 'title': 'Life Is Beautiful', 'awards': {'wins': 66}}\n",
      "\n",
      "{'year': 1995, 'title': 'The Usual Suspects', 'awards': {'wins': 36}}\n",
      "\n",
      "{'year': 1995, 'title': 'Se7en', 'awards': {'wins': 32}}\n",
      "\n",
      "{'year': 1994, 'title': 'Pulp Fiction', 'awards': {'wins': 64}}\n",
      "\n",
      "{'year': 1994, 'title': 'Forrest Gump', 'awards': {'wins': 46}}\n",
      "\n",
      "{'title': \"Schindler's List\", 'awards': {'wins': 81}, 'year': 1993}\n",
      "\n",
      "{'year': 1991, 'title': 'The Silence of the Lambs', 'awards': {'wins': 56}}\n",
      "\n",
      "{'year': 1990, 'title': 'Goodfellas', 'awards': {'wins': 43}}\n",
      "\n",
      "{'year': 1981, 'title': 'Raiders of the Lost Ark', 'awards': {'wins': 32}}\n",
      "\n",
      "{'year': 1977, 'title': 'Star Wars: Episode IV - A New Hope', 'awards': {'wins': 44}}\n",
      "\n",
      "{'year': 1975, 'title': \"One Flew Over the Cuckoo's Nest\", 'awards': {'wins': 36}}\n",
      "\n",
      "{'year': 1972, 'title': 'The Godfather', 'awards': {'wins': 33}}\n",
      "\n"
     ]
    }
   ],
   "source": [
    "movies = movies_collection \\\n",
    "    .find({\"year\": {\"$gte\": 1950, \"$lte\": 2000}, \"imdb.rating\": {\"$gte\": 8.5}, \"awards.wins\": {\"$gte\": 30}}, \n",
    "          {\"_id\": 0, \"title\": 1, \"year\": 1, \"awards.wins\": 1}) \\\n",
    "    .sort(\"year\", -1)\n",
    "\n",
    "for movie in movies:\n",
    "    print(movie)\n",
    "    print()"
   ]
  },
  {
   "cell_type": "markdown",
   "metadata": {},
   "source": [
    "Find the top 15 highest-rated movies according to IMDB for movies that have at least 100,000 votes. Your returned documents should only contain the `title`, `year`, and `imdb.rating` fields.\n",
    "\n",
    "> **Hint:** Be careful about documents which have a blank space in their `imdb.rating` field!\n",
    "\n",
    "> **Note:** It's ok if your results contain duplicates. Return 15 documents in any case."
   ]
  },
  {
   "cell_type": "code",
   "execution_count": 11,
   "metadata": {
    "tags": []
   },
   "outputs": [
    {
     "name": "stdout",
     "output_type": "stream",
     "text": [
      "{'title': 'Band of Brothers', 'year': 2001, 'imdb': {'rating': 9.6}}\n",
      "\n",
      "{'imdb': {'rating': 9.3}, 'year': 1994, 'title': 'The Shawshank Redemption'}\n",
      "\n",
      "{'imdb': {'rating': 9.3}, 'year': 1994, 'title': 'The Shawshank Redemption'}\n",
      "\n",
      "{'imdb': {'rating': 9.2}, 'year': 1972, 'title': 'The Godfather'}\n",
      "\n",
      "{'imdb': {'rating': 9.1}, 'year': 1974, 'title': 'The Godfather: Part II'}\n",
      "\n",
      "{'imdb': {'rating': 9.0}, 'year': 2008, 'title': 'The Dark Knight'}\n",
      "\n",
      "{'imdb': {'rating': 8.9}, 'year': 1999, 'title': 'Fight Club'}\n",
      "\n",
      "{'imdb': {'rating': 8.9}, 'year': 1994, 'title': 'Pulp Fiction'}\n",
      "\n",
      "{'imdb': {'rating': 8.9}, 'year': 2003, 'title': 'The Lord of the Rings: The Return of the King'}\n",
      "\n",
      "{'title': \"Schindler's List\", 'year': 1993, 'imdb': {'rating': 8.9}}\n",
      "\n",
      "{'imdb': {'rating': 8.8}, 'year': 1980, 'title': 'Star Wars: Episode V - The Empire Strikes Back'}\n",
      "\n",
      "{'imdb': {'rating': 8.8}, 'year': 2001, 'title': 'The Lord of the Rings: The Fellowship of the Ring'}\n",
      "\n",
      "{'imdb': {'rating': 8.8}, 'year': 2010, 'title': 'Inception'}\n",
      "\n",
      "{'imdb': {'rating': 8.8}, 'year': 1994, 'title': 'Forrest Gump'}\n",
      "\n",
      "{'imdb': {'rating': 8.7}, 'year': 1990, 'title': 'Goodfellas'}\n",
      "\n"
     ]
    }
   ],
   "source": [
    "movies = movies_collection \\\n",
    "    .find({\n",
    "        \"imdb.votes\": {\"$gte\": 100000},\n",
    "        \"imdb.rating\": {\"$exists\": True, \"$nin\": [\"\", \" \", None, {}]}\n",
    "    }, {\"_id\": 0, \"title\": 1, \"year\": 1, \"imdb.rating\": 1}) \\\n",
    "    .sort(\"imdb.rating\", -1).limit(15)\n",
    "\n",
    "for movie in movies:\n",
    "    print(movie)\n",
    "    print()"
   ]
  },
  {
   "cell_type": "markdown",
   "metadata": {},
   "source": [
    "Retrieve the title, production year, and IMDB rating of movies in which both **Morgan Freeman** and **Clint Eastwood** played a role (among other actors in those movies). Sort the returned documents by year in descending order."
   ]
  },
  {
   "cell_type": "code",
   "execution_count": 12,
   "metadata": {
    "tags": []
   },
   "outputs": [
    {
     "name": "stdout",
     "output_type": "stream",
     "text": [
      "{'imdb': {'rating': 8.1}, 'year': 2004, 'title': 'Million Dollar Baby'}\n",
      "{'imdb': {'rating': 8.3}, 'year': 1992, 'title': 'Unforgiven'}\n"
     ]
    }
   ],
   "source": [
    "movies = movies_collection \\\n",
    "    .find({\"cast\": {\"$all\": [\"Morgan Freeman\", \"Clint Eastwood\"]}}, \n",
    "          {\"_id\": 0, \"title\": 1, \"year\": 1, \"imdb.rating\": 1}) \\\n",
    "    .sort(\"year\", -1)\n",
    "\n",
    "for movie in movies:\n",
    "    print(movie)"
   ]
  },
  {
   "cell_type": "markdown",
   "metadata": {},
   "source": [
    "Retrieve documents associated with movies which:\n",
    "\n",
    "- are available in both German and French (among other languages), but not in English,\n",
    "- are either rated above 8 according to IMDB, or above 7.5 according to the critic ratings of [Rotten Tomatoes](https://www.rottentomatoes.com/) (inspect the `tomatoes` field),\n",
    "- have at least 50 Rotten Tomatoes critic reviews.\n",
    "\n",
    "The returned documents should include the title, year, IMDB rating, Rotten Tomatoes critic rating and country of production fields. Sort the results by IMDB rating in descending order.\n",
    "\n",
    "**Note:** Duplicates in the results are ok."
   ]
  },
  {
   "cell_type": "code",
   "execution_count": 13,
   "metadata": {
    "tags": []
   },
   "outputs": [
    {
     "name": "stdout",
     "output_type": "stream",
     "text": [
      "{'imdb': {'rating': 7.8}, 'year': 2013, 'title': 'The Wind Rises', 'tomatoes': {'critic': {'rating': 7.9}}, 'countries': ['Japan']}\n",
      "\n",
      "{'title': 'The Wind Rises', 'year': 2013, 'imdb': {'rating': 7.8}, 'countries': ['Japan'], 'tomatoes': {'critic': {'rating': 7.9}}}\n",
      "\n"
     ]
    }
   ],
   "source": [
    "filters = {\n",
    "    \"languages\": {\n",
    "        \"$all\": [\"German\", \"French\"],\n",
    "        \"$nin\": [\"English\"]\n",
    "    },\n",
    "    \"$or\": [\n",
    "        {\"imdb.rating\": {\"$gt\": 8}},\n",
    "        {\"tomatoes.critic.rating\": {\"$gt\": 7.5}}\n",
    "    ],\n",
    "    \"tomatoes.critic.numReviews\": {\"$gte\": 50}\n",
    "}\n",
    "\n",
    "select = {\n",
    "    \"_id\": 0,\n",
    "    \"title\": 1,\n",
    "    \"year\": 1,\n",
    "    \"imdb.rating\": 1,\n",
    "    \"tomatoes.critic.rating\": 1,\n",
    "    \"countries\": 1\n",
    "}\n",
    "\n",
    "movies = movies_collection.find(filters, select).sort(\"imdb.rating\", -1)\n",
    "\n",
    "for movie in movies:\n",
    "    print(movie)\n",
    "    print()"
   ]
  },
  {
   "cell_type": "markdown",
   "metadata": {},
   "source": [
    "Find the title and production year of the top 20 award-winning movies which have **not** been produced in USA, Canada, UK, or Australia.\n",
    "\n",
    "**Note:** Duplicates are ok. Return 20 documents in any case."
   ]
  },
  {
   "cell_type": "code",
   "execution_count": 14,
   "metadata": {
    "tags": []
   },
   "outputs": [
    {
     "name": "stdout",
     "output_type": "stream",
     "text": [
      "{'title': 'The Artist', 'year': 2011}\n",
      "\n",
      "{'title': 'Amour', 'year': 2012}\n",
      "\n",
      "{'title': 'Amour', 'year': 2012}\n",
      "\n",
      "{'title': 'A Separation', 'year': 2011}\n",
      "\n",
      "{'year': 2006, 'title': 'The Lives of Others'}\n",
      "\n",
      "{'title': 'Let the Right One In', 'year': 2008}\n",
      "\n",
      "{'year': 2002, 'title': 'City of God'}\n",
      "\n",
      "{'year': 2006, 'title': 'Volver'}\n",
      "\n",
      "{'title': 'Life Is Beautiful', 'year': 1997}\n",
      "\n",
      "{'title': 'The Sea Inside', 'year': 2004}\n",
      "\n",
      "{'year': 1997, 'title': 'Life Is Beautiful'}\n",
      "\n",
      "{'year': 2001, 'title': 'Amèlie'}\n",
      "\n",
      "{'year': 2009, 'title': 'The White Ribbon'}\n",
      "\n",
      "{'year': 2000, 'title': 'Amores Perros'}\n",
      "\n",
      "{'title': 'Shall We Dance?', 'year': 1996}\n",
      "\n",
      "{'title': 'Shall We Dance?', 'year': 1996}\n",
      "\n",
      "{'year': 2013, 'title': 'The Grandmaster'}\n",
      "\n",
      "{'year': 1999, 'title': 'All About My Mother'}\n",
      "\n",
      "{'year': 2001, 'title': 'Spirited Away'}\n",
      "\n",
      "{'year': 2009, 'title': 'The Secret in Their Eyes'}\n",
      "\n"
     ]
    }
   ],
   "source": [
    "filters = {\n",
    "    \"countries\": {\"$nin\": [\"USA\", \"Canada\", \"UK\", \"Australia\"]},\n",
    "    \"awards.wins\": {\"$gte\": 1}\n",
    "}\n",
    "\n",
    "select = {\n",
    "    \"_id\": 0,\n",
    "    \"title\": 1,\n",
    "    \"year\": 1\n",
    "}\n",
    "\n",
    "movies = movies_collection.find(filters, select).sort(\"awards.wins\", -1).limit(20)\n",
    "\n",
    "for movie in movies:\n",
    "    print(movie)\n",
    "    print()"
   ]
  },
  {
   "cell_type": "code",
   "execution_count": null,
   "metadata": {},
   "outputs": [],
   "source": []
  }
 ],
 "metadata": {
  "kernelspec": {
   "display_name": "Python 3 (ipykernel)",
   "language": "python",
   "name": "python3"
  },
  "language_info": {
   "codemirror_mode": {
    "name": "ipython",
    "version": 3
   },
   "file_extension": ".py",
   "mimetype": "text/x-python",
   "name": "python",
   "nbconvert_exporter": "python",
   "pygments_lexer": "ipython3",
   "version": "3.11.0"
  },
  "otter": {
   "OK_FORMAT": true,
   "tests": {}
  },
  "toc": {
   "base_numbering": 1,
   "nav_menu": {},
   "number_sections": false,
   "sideBar": true,
   "skip_h1_title": true,
   "title_cell": "Lecture Outline",
   "title_sidebar": "Contents",
   "toc_cell": true,
   "toc_position": {},
   "toc_section_display": true,
   "toc_window_display": true
  },
  "toc-autonumbering": false,
  "toc-showcode": false,
  "toc-showmarkdowntxt": false,
  "toc-showtags": false,
  "vscode": {
   "interpreter": {
    "hash": "ca7260ae022c71fb383831b2a1198c53a34e1b3f9d08b9677b0a2c2210849264"
   }
  }
 },
 "nbformat": 4,
 "nbformat_minor": 4
}
