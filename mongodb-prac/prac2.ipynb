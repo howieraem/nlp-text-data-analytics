{
 "cells": [
  {
   "cell_type": "markdown",
   "id": "cceab415-4e5c-4654-b2b2-f495a58f1ab0",
   "metadata": {},
   "source": [
    "# MongoDB Exercise\n",
    "\n",
    "***Question 1:*** \n",
    "\n",
    "Connect via pymongo."
   ]
  },
  {
   "cell_type": "code",
   "execution_count": 2,
   "id": "c6043d5e",
   "metadata": {},
   "outputs": [],
   "source": [
    "from pymongo import MongoClient\n",
    "import json\n",
    "import urllib.parse\n",
    "\n",
    "with open('credentials_mongodb.json') as f:\n",
    "    login = json.load(f)\n",
    "\n",
    "username = login['username']\n",
    "password = urllib.parse.quote(login['password'])\n",
    "host = login['host']\n",
    "url = \"mongodb+srv://{}:{}@{}/?retryWrites=true&w=majority\".format(username, password, host)"
   ]
  },
  {
   "cell_type": "code",
   "execution_count": 3,
   "id": "85595667",
   "metadata": {},
   "outputs": [],
   "source": [
    "client = MongoClient(url)"
   ]
  },
  {
   "cell_type": "code",
   "execution_count": 4,
   "id": "a708016e",
   "metadata": {},
   "outputs": [
    {
     "data": {
      "text/plain": [
       "['sample_airbnb',\n",
       " 'sample_analytics',\n",
       " 'sample_geospatial',\n",
       " 'sample_guides',\n",
       " 'sample_mflix',\n",
       " 'sample_restaurants',\n",
       " 'sample_supplies',\n",
       " 'sample_training',\n",
       " 'sample_weatherdata',\n",
       " 'admin',\n",
       " 'local']"
      ]
     },
     "execution_count": 4,
     "metadata": {},
     "output_type": "execute_result"
    }
   ],
   "source": [
    "client.list_database_names()"
   ]
  },
  {
   "cell_type": "markdown",
   "id": "d2302d79",
   "metadata": {},
   "source": [
    "For the following questions you want to use database `sample_mflix` and collection `movies`.\n",
    "\n",
    "***Question 2:*** \n",
    "\n",
    "Write a query to find all documents with 'num_mflix_comments' to be 2. Limit results to 5.\n",
    "\n",
    "Hint: When asked for all documents, it is like 'select *'"
   ]
  },
  {
   "cell_type": "code",
   "execution_count": 5,
   "id": "5e6b6256",
   "metadata": {},
   "outputs": [
    {
     "data": {
      "text/plain": [
       "['theaters', 'movies', 'users', 'embedded_movies', 'comments', 'sessions']"
      ]
     },
     "execution_count": 5,
     "metadata": {},
     "output_type": "execute_result"
    }
   ],
   "source": [
    "client['sample_mflix'].list_collection_names()"
   ]
  },
  {
   "cell_type": "code",
   "execution_count": 6,
   "id": "306f9ae7-1fa9-410d-91ff-27a3525f930e",
   "metadata": {},
   "outputs": [],
   "source": [
    "movies = client['sample_mflix']['movies']"
   ]
  },
  {
   "cell_type": "code",
   "execution_count": 12,
   "id": "bd30b407-c849-494a-9783-f8accb33f7ab",
   "metadata": {},
   "outputs": [
    {
     "name": "stdout",
     "output_type": "stream",
     "text": [
      "951\n",
      "{'_id': ObjectId('573a1391f29313caabcd8543'), 'plot': 'A meek Belgian soldier (Harry Langdon) fighting in World War I receives penpal letters and a photo from \"Mary Brown\", an American girl he has never met. He becomes infatuated with her by ...', 'genres': ['Comedy'], 'runtime': 75, 'cast': ['Harry Langdon', 'Priscilla Bonner', 'Gertrude Astor', 'William V. Mong'], 'num_mflix_comments': 2, 'poster': 'https://m.media-amazon.com/images/M/MV5BMTYyMjE0OTQ2NF5BMl5BanBnXkFtZTcwNTUxMDIzMQ@@._V1_SY1000_SX677_AL_.jpg', 'title': 'The Strong Man', 'fullplot': 'A meek Belgian soldier (Harry Langdon) fighting in World War I receives penpal letters and a photo from \"Mary Brown\", an American girl he has never met. He becomes infatuated with her by long distance. After the war, the young Belgian journeys to America as assistant to a theatrical \"strong man\", Zandow the Great (Arthur Thalasso). While in America, he searches for Mary Brown... and he finds her, just as word comes that Zandow is incapacitated and the little nebbish must go on stage in his place.', 'languages': ['English'], 'released': datetime.datetime(1926, 9, 19, 0, 0), 'directors': ['Frank Capra'], 'writers': ['Arthur Ripley (story)', 'Hal Conklin (adapted by)', 'Robert Eddy (adapted by)', 'Reed Heustis (titles by)', 'Clarence Hennecke (adaptation)', 'James Langdon (adaptation)', 'Tim Whelan (adaptation)'], 'awards': {'wins': 1, 'nominations': 0, 'text': '1 win.'}, 'lastupdated': '2015-08-22 00:10:17.500000000', 'year': 1926, 'imdb': {'rating': 6.8, 'votes': 547, 'id': 17437}, 'countries': ['USA'], 'type': 'movie', 'tomatoes': {'viewer': {'rating': 3.7, 'numReviews': 165, 'meter': 84}, 'lastUpdated': datetime.datetime(2015, 8, 26, 18, 32, 52)}}\n"
     ]
    }
   ],
   "source": [
    "docs_q2 = list(movies.find(filter={'num_mflix_comments': 2}))\n",
    "print(len(docs_q2))\n",
    "print(docs_q2[0])"
   ]
  },
  {
   "cell_type": "markdown",
   "id": "c4acdc38",
   "metadata": {},
   "source": [
    "***Question 3:*** \n",
    "\n",
    "Write a query to select fields `title`,`num_mflix_comments` and `year` for all documents with `num_mflix_comments` to be 2. Also sort the result by year in ascending order.  Limit results to 5.\n",
    "\n",
    "Hint: When asked for certain fields, it is like 'select col1, col2'"
   ]
  },
  {
   "cell_type": "code",
   "execution_count": 13,
   "id": "7d65d610",
   "metadata": {},
   "outputs": [
    {
     "name": "stdout",
     "output_type": "stream",
     "text": [
      "{'num_mflix_comments': 2, 'title': 'The Strong Man', 'year': 1926}\n",
      "{'num_mflix_comments': 2, 'title': 'Broken Lullaby', 'year': 1932}\n",
      "{'num_mflix_comments': 2, 'title': 'Wife! Be Like a Rose!', 'year': 1935}\n",
      "{'num_mflix_comments': 2, 'title': 'China Seas', 'year': 1935}\n",
      "{'num_mflix_comments': 2, 'title': 'The Green Pastures', 'year': 1936}\n"
     ]
    }
   ],
   "source": [
    "from pymongo import ASCENDING\n",
    "\n",
    "cursor = movies.find(\n",
    "    {\"num_mflix_comments\": 2},\n",
    "    {\"title\": 1, \"num_mflix_comments\": 1, \"year\": 1, \"_id\": 0}\n",
    ").sort(\"year\", ASCENDING).limit(5)\n",
    "\n",
    "for doc in cursor:\n",
    "    print(doc)"
   ]
  },
  {
   "cell_type": "markdown",
   "id": "ff693329",
   "metadata": {},
   "source": [
    "***Question 4:*** \n",
    "\n",
    "Write a query to select distinct 'type' field."
   ]
  },
  {
   "cell_type": "code",
   "execution_count": 10,
   "id": "2449c74d",
   "metadata": {},
   "outputs": [
    {
     "name": "stdout",
     "output_type": "stream",
     "text": [
      "['movie', 'series']\n"
     ]
    }
   ],
   "source": [
    "distinct_types = movies.distinct(\"type\")\n",
    "print(distinct_types)"
   ]
  },
  {
   "cell_type": "code",
   "execution_count": null,
   "id": "5fa87a33-d525-4197-b5bd-b944e0ef1a24",
   "metadata": {},
   "outputs": [],
   "source": []
  }
 ],
 "metadata": {
  "kernelspec": {
   "display_name": "bait580",
   "language": "python",
   "name": "bait580_2024"
  },
  "language_info": {
   "codemirror_mode": {
    "name": "ipython",
    "version": 3
   },
   "file_extension": ".py",
   "mimetype": "text/x-python",
   "name": "python",
   "nbconvert_exporter": "python",
   "pygments_lexer": "ipython3",
   "version": "3.11.0"
  },
  "vscode": {
   "interpreter": {
    "hash": "ca7260ae022c71fb383831b2a1198c53a34e1b3f9d08b9677b0a2c2210849264"
   }
  }
 },
 "nbformat": 4,
 "nbformat_minor": 5
}
