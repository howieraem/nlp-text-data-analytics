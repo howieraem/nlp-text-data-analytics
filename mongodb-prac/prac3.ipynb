{
 "cells": [
  {
   "cell_type": "markdown",
   "id": "9dacbcad-1c63-4cc5-a33d-61529f8f7da8",
   "metadata": {},
   "source": [
    "# MongoDB Exercise"
   ]
  },
  {
   "cell_type": "code",
   "execution_count": 1,
   "id": "9c18eb5d",
   "metadata": {},
   "outputs": [],
   "source": [
    "from pymongo import MongoClient\n",
    "import json\n",
    "import urllib.parse\n",
    "\n",
    "with open('credentials_mongodb.json') as f:\n",
    "    login = json.load(f)\n",
    "\n",
    "username = login['username']\n",
    "password = urllib.parse.quote(login['password'])\n",
    "host = login['host']\n",
    "url = \"mongodb+srv://{}:{}@{}/?retryWrites=true&w=majority\".format(username, password, host)"
   ]
  },
  {
   "cell_type": "code",
   "execution_count": 2,
   "id": "beeb86c1",
   "metadata": {},
   "outputs": [],
   "source": [
    "client = MongoClient(url)"
   ]
  },
  {
   "cell_type": "markdown",
   "id": "34c18a98",
   "metadata": {},
   "source": [
    "List all db names collections"
   ]
  },
  {
   "cell_type": "code",
   "execution_count": 3,
   "id": "004ec93c",
   "metadata": {},
   "outputs": [
    {
     "data": {
      "text/plain": [
       "['sample_airbnb',\n",
       " 'sample_analytics',\n",
       " 'sample_geospatial',\n",
       " 'sample_guides',\n",
       " 'sample_mflix',\n",
       " 'sample_restaurants',\n",
       " 'sample_supplies',\n",
       " 'sample_training',\n",
       " 'sample_weatherdata',\n",
       " 'admin',\n",
       " 'local']"
      ]
     },
     "execution_count": 3,
     "metadata": {},
     "output_type": "execute_result"
    }
   ],
   "source": [
    "client.list_database_names()"
   ]
  },
  {
   "cell_type": "markdown",
   "id": "d41cf6e7",
   "metadata": {},
   "source": [
    "Just checking data; I can also check schema in Mongo compass."
   ]
  },
  {
   "cell_type": "code",
   "execution_count": 4,
   "id": "144762f5",
   "metadata": {},
   "outputs": [
    {
     "data": {
      "text/plain": [
       "{'_id': ObjectId('573a1390f29313caabcd42e8'),\n",
       " 'plot': 'A group of bandits stage a brazen train hold-up, only to find a determined posse hot on their heels.',\n",
       " 'genres': ['Short', 'Western'],\n",
       " 'runtime': 11,\n",
       " 'cast': ['A.C. Abadie',\n",
       "  \"Gilbert M. 'Broncho Billy' Anderson\",\n",
       "  'George Barnes',\n",
       "  'Justus D. Barnes'],\n",
       " 'poster': 'https://m.media-amazon.com/images/M/MV5BMTU3NjE5NzYtYTYyNS00MDVmLWIwYjgtMmYwYWIxZDYyNzU2XkEyXkFqcGdeQXVyNzQzNzQxNzI@._V1_SY1000_SX677_AL_.jpg',\n",
       " 'title': 'The Great Train Robbery',\n",
       " 'fullplot': \"Among the earliest existing films in American cinema - notable as the first film that presented a narrative story to tell - it depicts a group of cowboy outlaws who hold up a train and rob the passengers. They are then pursued by a Sheriff's posse. Several scenes have color included - all hand tinted.\",\n",
       " 'languages': ['English'],\n",
       " 'released': datetime.datetime(1903, 12, 1, 0, 0),\n",
       " 'directors': ['Edwin S. Porter'],\n",
       " 'rated': 'TV-G',\n",
       " 'awards': {'wins': 1, 'nominations': 0, 'text': '1 win.'},\n",
       " 'lastupdated': '2015-08-13 00:27:59.177000000',\n",
       " 'year': 1903,\n",
       " 'imdb': {'rating': 7.4, 'votes': 9847, 'id': 439},\n",
       " 'countries': ['USA'],\n",
       " 'type': 'movie',\n",
       " 'tomatoes': {'viewer': {'rating': 3.7, 'numReviews': 2559, 'meter': 75},\n",
       "  'fresh': 6,\n",
       "  'critic': {'rating': 7.6, 'numReviews': 6, 'meter': 100},\n",
       "  'rotten': 0,\n",
       "  'lastUpdated': datetime.datetime(2015, 8, 8, 19, 16, 10)},\n",
       " 'num_mflix_comments': 0}"
      ]
     },
     "execution_count": 4,
     "metadata": {},
     "output_type": "execute_result"
    }
   ],
   "source": [
    "client.sample_mflix.movies.find_one()"
   ]
  },
  {
   "cell_type": "markdown",
   "id": "17030977",
   "metadata": {},
   "source": [
    "For the following questions you want to use database `sample_mflix` and collection `movies`."
   ]
  },
  {
   "cell_type": "markdown",
   "id": "5890abe0",
   "metadata": {},
   "source": [
    "***Question 1:*** \n",
    "\n",
    "Write a query to count the number of movies casted either  'Tommy Lee Jones' or 'Will Smith' with `num_mflix_comments` greater than 120.\n",
    "\n",
    "Hint: Make sure you select 'type' as 'movie' - this is applicable for all questions where we are asking about movies."
   ]
  },
  {
   "cell_type": "code",
   "execution_count": 5,
   "id": "40a1369a",
   "metadata": {},
   "outputs": [
    {
     "name": "stdout",
     "output_type": "stream",
     "text": [
      "8\n"
     ]
    }
   ],
   "source": [
    "movies_collection = client['sample_mflix']['movies']\n",
    "print(movies_collection.count_documents({\n",
    "        \"cast\": {\"$in\": [\"Tommy Lee Jones\", \"Will Smith\"]},\n",
    "        \"num_mflix_comments\": {\"$gt\": 120},\n",
    "        \"type\": \"movie\",\n",
    "}))"
   ]
  },
  {
   "cell_type": "markdown",
   "id": "01ec4531",
   "metadata": {},
   "source": [
    "***Question 2:*** \n",
    "\n",
    "Write a query to count the number of movies casted either 'Tommy Lee Jones' or 'Will Smith' with `num_mflix_comments` greater than 120 or `runtime` less than 100 min.\n",
    "\n",
    "Hint: You can develop on the Question 1 query to include the `or` condition for `num_mflix_comments` or `runtime`."
   ]
  },
  {
   "cell_type": "code",
   "execution_count": 6,
   "id": "de03442c",
   "metadata": {},
   "outputs": [
    {
     "name": "stdout",
     "output_type": "stream",
     "text": [
      "12\n"
     ]
    }
   ],
   "source": [
    "movies_collection = client['sample_mflix']['movies']\n",
    "print(movies_collection.count_documents({\n",
    "        \"cast\": {\"$in\": [\"Tommy Lee Jones\", \"Will Smith\"]},\n",
    "        \"$or\": [\n",
    "            {\"num_mflix_comments\": {\"$gt\": 120}},\n",
    "            {\"runtime\": {\"$lt\": 100}}\n",
    "        ],\n",
    "        \"type\": \"movie\",\n",
    "}))"
   ]
  },
  {
   "cell_type": "markdown",
   "id": "2e34ef8c",
   "metadata": {},
   "source": [
    "***Question 3:*** \n",
    "\n",
    "Write a query to select distinct movie titles casted either 'Tommy Lee Jones' or 'Will Smith' with `nominations` greater than or equal to 10.\n",
    "\n",
    "Hint: You can develop the Question 1 query. Takeout condition on `num_mflix_comments` and add `nominations` instead. But how can you add `nominations` ? Can you access `nominations` by just giving `nominations` ? What is special about the `nominations` field? You can check mongo compass schema tab or just query to see data `client.sample_mflix.movies.find_one()`\n",
    "\n",
    "Remember, unlike the previous 2 questions, here we are not asking for a count but to print the data. "
   ]
  },
  {
   "cell_type": "code",
   "execution_count": 7,
   "id": "f5381dc5",
   "metadata": {},
   "outputs": [
    {
     "name": "stdout",
     "output_type": "stream",
     "text": [
      "A Prairie Home Companion\n",
      "Ali\n",
      "Bad Boys II\n",
      "Batman Forever\n",
      "Captain America: The First Avenger\n",
      "Coal Miner's Daughter\n",
      "Enemy of the State\n",
      "Hancock\n",
      "Hitch\n",
      "I Am Legend\n",
      "I, Robot\n",
      "In the Valley of Elah\n",
      "Independence Day\n",
      "Men in Black\n",
      "Men in Black 3\n",
      "No Country for Old Men\n",
      "Shark Tale\n",
      "The Fugitive\n",
      "The Homesman\n",
      "The Legend of Bagger Vance\n",
      "The Pursuit of Happyness\n",
      "Wild Wild West\n"
     ]
    }
   ],
   "source": [
    "res = list(\n",
    "    movies_collection.distinct(\"title\", {\n",
    "        \"cast\": {\"$in\": [\"Tommy Lee Jones\", \"Will Smith\"]},\n",
    "        \"awards.nominations\": {\"$gte\": 10},\n",
    "        \"type\": \"movie\",\n",
    "    })\n",
    ")\n",
    "for r in res:\n",
    "    print(r)"
   ]
  },
  {
   "cell_type": "markdown",
   "id": "7edb0af9",
   "metadata": {},
   "source": [
    "***Question 4:*** \n",
    "\n",
    "Write a query to count the number of movies casted 'Norman Kerry' with `tomatoes.viewer.meter` greater than or equal to 5 and the field `languages` exists. \n",
    "\n",
    "Hint: \n",
    "- Make sure you don't include documents with a blank space in their `tomatoes.viewer.meter` field! ('$ne': '')\n",
    "- You have to make sure that you use a keyword (check lecture notes to see what keyword is that) to make sure that the field `languages` exist. "
   ]
  },
  {
   "cell_type": "code",
   "execution_count": 8,
   "id": "c280f00e",
   "metadata": {},
   "outputs": [
    {
     "name": "stdout",
     "output_type": "stream",
     "text": [
      "0\n"
     ]
    }
   ],
   "source": [
    "movies_collection = client['sample_mflix']['movies']\n",
    "print(movies_collection.count_documents({\n",
    "    \"cast\": \"Norman Kerry\",\n",
    "    \"tomatoes.viewer.meter\": {\"$gte\": 5, \"$ne\": \"\"},\n",
    "    \"languages\": {\"$exists\": True},\n",
    "    \"type\": \"movie\",\n",
    "}))"
   ]
  },
  {
   "cell_type": "code",
   "execution_count": 9,
   "id": "43a057c8-b166-4c1a-92d6-8acc30edfcb6",
   "metadata": {},
   "outputs": [
    {
     "name": "stdout",
     "output_type": "stream",
     "text": [
      "['Hètel Terminus', 'Sorcerer', 'Viva Maria!']\n"
     ]
    }
   ],
   "source": [
    "movies_collection = client['sample_mflix']['movies']\n",
    "\n",
    "cursor = movies_collection.distinct(\"title\", {\n",
    "    \"languages\": {\"$eq\": [\"English\", \"Spanish\", \"French\", \"German\"]}, \"type\": \"movie\",\n",
    "})\n",
    "\n",
    "print(list(cursor))"
   ]
  },
  {
   "cell_type": "code",
   "execution_count": null,
   "id": "a2666cd1-0231-4bb9-9b6b-6a5526017e30",
   "metadata": {},
   "outputs": [],
   "source": []
  }
 ],
 "metadata": {
  "kernelspec": {
   "display_name": "Python 3 (ipykernel)",
   "language": "python",
   "name": "python3"
  },
  "language_info": {
   "codemirror_mode": {
    "name": "ipython",
    "version": 3
   },
   "file_extension": ".py",
   "mimetype": "text/x-python",
   "name": "python",
   "nbconvert_exporter": "python",
   "pygments_lexer": "ipython3",
   "version": "3.11.0"
  },
  "vscode": {
   "interpreter": {
    "hash": "ca7260ae022c71fb383831b2a1198c53a34e1b3f9d08b9677b0a2c2210849264"
   }
  }
 },
 "nbformat": 4,
 "nbformat_minor": 5
}
