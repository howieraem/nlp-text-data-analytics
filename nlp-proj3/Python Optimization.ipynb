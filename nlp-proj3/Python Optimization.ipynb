{
 "cells": [
  {
   "cell_type": "markdown",
   "id": "97055ff1",
   "metadata": {},
   "source": [
    "# Optimizing Python Code "
   ]
  },
  {
   "cell_type": "markdown",
   "id": "2fa609fe",
   "metadata": {},
   "source": [
    "\n",
    "## Sparse Matrices"
   ]
  },
  {
   "cell_type": "markdown",
   "id": "90cf834a",
   "metadata": {},
   "source": [
    "### Why regular matrices  suck sometimes (Especially for co-occurences)\n",
    "\n",
    "Our co-occurence matrices are sparse because they have a TON of zeroes in them. \n",
    "\n",
    "It's a waste of memory to store those zeroes!\n",
    "\n",
    "If we have 42k different tokens in our vocab, our cooccurence matrix is 42k by 42k. \n",
    "\n",
    "42,000 x 42,000 = 1,764,000,000\n",
    "\n",
    "If an int takes 4 bytes in python, we need (1,764,000,000 * 4 = 7,056,000,000 Bytes of memory in RAM TO STORE THE MATRIX)\n",
    "\n",
    "#### That's 7 GIGABYTES OF MEMORY to store the matrix for hw3, most of which is just storing 0 values! \n",
    "\n",
    "Well, since we know that those values are 0... Can we store these matrices in a smarter way? YES WE CAN"
   ]
  },
  {
   "cell_type": "markdown",
   "id": "b8e9d8fc",
   "metadata": {},
   "source": [
    "### Solution: Sparse Matrices (Store only nonzero elements of a matrix)\n",
    "\n",
    "If we instead only store the locations and values of any spots in a matrix that aren't zero, we can vastly cut down how much storage we need. With a CSR matrix, you can simplify the amount of numbers you store to:\n",
    "\n",
    "Num_of_nonzero_vals_in_matrix * 3 {3 comes from the number of lists required to store a sparse matrix}\n",
    "\n",
    "So say there were as many as 500k nonzero elements in your co-occurance matrix, 500k*3 *4bytes= 6mil bytes= 6 MB\n",
    "\n",
    "#### 6MB is <<<<<<<<<<<<< 7 GB, which will really help your program run way faster!\n",
    "\n",
    "Also because many math operations we do on matrices leave 0's as 0's, sparse matrices make things like SVD's much quicker because we process less values. For instance, creating a PPMI with a sparse matrix let's you skip over calculating all the 0's, which would've been 0 anyway!\n",
    "\n",
    "Now there are many forms of sparse matrices (7 in scipy), each with their own pros and cons. Usually it's more complicated to do operations on them, and if a matrix didn't have many 0's, it would take 3 or more times the memory than the regular dense representation. \n",
    "\n",
    "Take a look at the quick tutorial linked below to get set up with how CSR matrices work (great choice for hw3), and the longer tutorial if you are more curious. HOWEVER, the quick tutorial doesn't go over how to build a sparse matrix from scratch (skipping making that dense matrix). It's easier than you think, but if you need extra help come to OH!\n",
    "\n",
    "Quick Tutorial: https://machinelearningmastery.com/sparse-matrices-for-machine-learning/\n",
    "\n",
    "Longer Tutorial: https://medium.com/swlh/an-in-depth-introduction-to-sparse-matrix-a5972d7e8c86\n",
    "\n"
   ]
  },
  {
   "cell_type": "markdown",
   "id": "036591ee",
   "metadata": {},
   "source": [
    "## Optimizing Python Code"
   ]
  },
  {
   "cell_type": "markdown",
   "id": "81207193",
   "metadata": {},
   "source": [
    "## Installations"
   ]
  },
  {
   "cell_type": "markdown",
   "id": "169997ae",
   "metadata": {},
   "source": [
    "Line profiler is a SUPER useful tool that will tell you how long each line in your python function is taking (to spot pesky bottlenecks)! \n",
    "\n",
    "Run it as:\n",
    "\n",
    "%lprun -f FUNCTION_NAME FUNCTION_NAME(INPUTS)\n",
    "\n",
    "in a jupyter code cell"
   ]
  },
  {
   "cell_type": "code",
   "execution_count": null,
   "id": "593f2947",
   "metadata": {},
   "outputs": [],
   "source": [
    "! pip install line-profiler\n",
    "%load_ext line_profiler"
   ]
  },
  {
   "cell_type": "code",
   "execution_count": 2,
   "id": "0f1f4d4b",
   "metadata": {},
   "outputs": [],
   "source": [
    "import numpy as np\n",
    "import scipy as sp\n",
    "import numba "
   ]
  },
  {
   "cell_type": "markdown",
   "id": "af9ba2e8",
   "metadata": {},
   "source": [
    "## Basic Tips"
   ]
  },
  {
   "cell_type": "markdown",
   "id": "6940cfeb",
   "metadata": {},
   "source": [
    "### 1. List Comprehensions\n",
    "\n",
    "src: https://treyhunner.com/2015/12/python-list-comprehensions-now-in-color/"
   ]
  },
  {
   "cell_type": "code",
   "execution_count": 9,
   "id": "79c76176",
   "metadata": {},
   "outputs": [
    {
     "data": {
      "text/plain": [
       "[1, 1, 0]"
      ]
     },
     "execution_count": 9,
     "metadata": {},
     "output_type": "execute_result"
    }
   ],
   "source": [
    "input_list = [1, 2, -3]\n",
    "output_list = []\n",
    "for x in input_list:\n",
    "    if x >= 0:\n",
    "        output_list.append(1)\n",
    "    else:\n",
    "        output_list.append(0)\n",
    "output_list"
   ]
  },
  {
   "cell_type": "code",
   "execution_count": 10,
   "id": "0752498e",
   "metadata": {},
   "outputs": [
    {
     "data": {
      "text/plain": [
       "[1, 1, 0]"
      ]
     },
     "execution_count": 10,
     "metadata": {},
     "output_type": "execute_result"
    }
   ],
   "source": [
    "output_list = [1 if x >= 0 else 0 for x in input_list]\n",
    "output_list"
   ]
  },
  {
   "cell_type": "markdown",
   "id": "83b3bf26",
   "metadata": {},
   "source": [
    "### 2. Work with Python built-in functions. They're already optimized! (Built in Cython)\n",
    "\n",
    "What is Cython? People rewrote Python functions in C so that they run wayyyy faster: https://cython.org"
   ]
  },
  {
   "cell_type": "code",
   "execution_count": 12,
   "id": "7f6a5920",
   "metadata": {},
   "outputs": [
    {
     "data": {
      "text/plain": [
       "'This is a sentence.'"
      ]
     },
     "execution_count": 12,
     "metadata": {},
     "output_type": "execute_result"
    }
   ],
   "source": [
    "# Slow manual for loop\n",
    "sentence_list = ['This ', 'is ', 'a ', 'sentence.']\n",
    "sentence = ''\n",
    "for i in sentence_list:\n",
    "    sentence += i\n",
    "sentence"
   ]
  },
  {
   "cell_type": "code",
   "execution_count": 38,
   "id": "d28a5fb1",
   "metadata": {},
   "outputs": [
    {
     "data": {
      "text/plain": [
       "'This is a sentence.'"
      ]
     },
     "execution_count": 38,
     "metadata": {},
     "output_type": "execute_result"
    }
   ],
   "source": [
    "# Much quicker function written in Cython by the devs\n",
    "sentence = ''.join(sentence_list)\n",
    "sentence"
   ]
  },
  {
   "cell_type": "markdown",
   "id": "30c9414f",
   "metadata": {},
   "source": [
    "## 3. Remember your data structures!"
   ]
  },
  {
   "cell_type": "code",
   "execution_count": 24,
   "id": "5b34d386",
   "metadata": {},
   "outputs": [],
   "source": [
    "## Need to lookup things quickly? Don't forget your dicts!"
   ]
  },
  {
   "cell_type": "code",
   "execution_count": 39,
   "id": "08351441",
   "metadata": {},
   "outputs": [
    {
     "data": {
      "text/plain": [
       "\"Lorem Ipsum is simply dummy text of the printing and typesetting industry. Lorem Ipsum has been the industry's standard dummy text ever since the 1500s, when an unknown printer took a galley of type and scrambled it to make a type specimen book. It has survived not only five centuries, but also the leap into electronic typesetting, remaining essentially unchanged. It was popularised in the 1960s with the release of Letraset sheets containing Lorem Ipsum passages, and more recently with desktop publishing software like Aldus PageMaker including versions of Lorem Ipsum.\""
      ]
     },
     "execution_count": 39,
     "metadata": {},
     "output_type": "execute_result"
    }
   ],
   "source": [
    "corpus = \"Lorem Ipsum is simply dummy text of the printing and typesetting industry. Lorem Ipsum has been the industry's standard dummy text ever since the 1500s, when an unknown printer took a galley of type and scrambled it to make a type specimen book. It has survived not only five centuries, but also the leap into electronic typesetting, remaining essentially unchanged. It was popularised in the 1960s with the release of Letraset sheets containing Lorem Ipsum passages, and more recently with desktop publishing software like Aldus PageMaker including versions of Lorem Ipsum.\"\n",
    "corpus"
   ]
  },
  {
   "cell_type": "code",
   "execution_count": 40,
   "id": "c0817dab",
   "metadata": {},
   "outputs": [
    {
     "data": {
      "text/plain": [
       "{'software': 0,\n",
       " 'but': 1,\n",
       " 'since': 2,\n",
       " 'a': 3,\n",
       " 'it': 4,\n",
       " 'text': 5,\n",
       " 'Ipsum.': 6,\n",
       " 'specimen': 7,\n",
       " 'industry.': 8,\n",
       " \"industry's\": 9,\n",
       " 'survived': 10,\n",
       " 'release': 11,\n",
       " 'in': 12,\n",
       " 'not': 13,\n",
       " 'recently': 14,\n",
       " 'been': 15,\n",
       " 'unchanged.': 16,\n",
       " 'also': 17,\n",
       " 'type': 18,\n",
       " 'Lorem': 19,\n",
       " 'leap': 20,\n",
       " 'dummy': 21,\n",
       " 'essentially': 22,\n",
       " 'standard': 23,\n",
       " 'the': 24,\n",
       " 'passages,': 25,\n",
       " 'printing': 26,\n",
       " 'an': 27,\n",
       " 'printer': 28,\n",
       " 'desktop': 29,\n",
       " 'took': 30,\n",
       " 'like': 31,\n",
       " 'with': 32,\n",
       " 'versions': 33,\n",
       " 'five': 34,\n",
       " '1960s': 35,\n",
       " 'and': 36,\n",
       " 'galley': 37,\n",
       " 'Letraset': 38,\n",
       " 'remaining': 39,\n",
       " 'is': 40,\n",
       " 'PageMaker': 41,\n",
       " 'centuries,': 42,\n",
       " 'of': 43,\n",
       " 'typesetting': 44,\n",
       " 'publishing': 45,\n",
       " 'including': 46,\n",
       " 'electronic': 47,\n",
       " 'to': 48,\n",
       " 'was': 49,\n",
       " 'has': 50,\n",
       " 'more': 51,\n",
       " 'containing': 52,\n",
       " 'ever': 53,\n",
       " '1500s,': 54,\n",
       " 'into': 55,\n",
       " 'unknown': 56,\n",
       " 'Ipsum': 57,\n",
       " 'book.': 58,\n",
       " 'popularised': 59,\n",
       " 'make': 60,\n",
       " 'when': 61,\n",
       " 'typesetting,': 62,\n",
       " 'It': 63,\n",
       " 'simply': 64,\n",
       " 'Aldus': 65,\n",
       " 'only': 66,\n",
       " 'scrambled': 67,\n",
       " 'sheets': 68}"
      ]
     },
     "execution_count": 40,
     "metadata": {},
     "output_type": "execute_result"
    }
   ],
   "source": [
    "# Nice way to get indexable vocab list\n",
    "\n",
    "split_corp = corpus.split() # Split corpus into words\n",
    "corpus_size = len(split_corp) # Get size of corpus (for some operations)\n",
    "vocab = set(split_corp) # Remove duplicate words\n",
    "vocab = list(vocab) # Turn into list so you can have a dict\n",
    "vocab_idx = {token: index for index, token in enumerate(vocab)} # Dict so you can quickly build a co-occurence mat\n",
    "vocab_idx"
   ]
  },
  {
   "cell_type": "markdown",
   "id": "5d4b783e",
   "metadata": {},
   "source": [
    "## 4. Numpy Matrices >>>>> Lists"
   ]
  },
  {
   "cell_type": "code",
   "execution_count": 29,
   "id": "72271e3c",
   "metadata": {},
   "outputs": [],
   "source": [
    "np.random.seed(445)"
   ]
  },
  {
   "cell_type": "code",
   "execution_count": 34,
   "id": "465e376e",
   "metadata": {},
   "outputs": [
    {
     "data": {
      "text/plain": [
       "array([False, False, False, ...,  True,  True, False])"
      ]
     },
     "execution_count": 34,
     "metadata": {},
     "output_type": "execute_result"
    }
   ],
   "source": [
    "x = np.random.choice([False, True], size=100000000)\n",
    "x"
   ]
  },
  {
   "cell_type": "code",
   "execution_count": 35,
   "id": "24480591",
   "metadata": {},
   "outputs": [
    {
     "data": {
      "text/plain": [
       "25000897"
      ]
     },
     "execution_count": 35,
     "metadata": {},
     "output_type": "execute_result"
    }
   ],
   "source": [
    "# Slow by hand function\n",
    "def count_transitions(x) -> int:\n",
    "    count = 0\n",
    "    for i, j in zip(x[:-1], x[1:]):\n",
    "        if j and not i:\n",
    "            count += 1\n",
    "    return count\n",
    "count_transitions(x)"
   ]
  },
  {
   "cell_type": "code",
   "execution_count": 41,
   "id": "68397394",
   "metadata": {},
   "outputs": [
    {
     "data": {
      "text/plain": [
       "25000897"
      ]
     },
     "execution_count": 41,
     "metadata": {},
     "output_type": "execute_result"
    }
   ],
   "source": [
    "# Fast numpy array version :) FIFTY-FIVE TIMES FASTER\n",
    "np.count_nonzero(x[:-1] < x[1:])"
   ]
  },
  {
   "cell_type": "code",
   "execution_count": 23,
   "id": "68d5fb8c",
   "metadata": {},
   "outputs": [
    {
     "name": "stdout",
     "output_type": "stream",
     "text": [
      "Speed difference: 55.3x\n"
     ]
    }
   ],
   "source": [
    "from timeit import timeit\n",
    "setup = 'from __main__ import count_transitions, x; import numpy as np'\n",
    "num = 1000\n",
    "t1 = timeit('count_transitions(x)', setup=setup, number=num)\n",
    "t2 = timeit('np.count_nonzero(x[:-1] < x[1:])', setup=setup, number=num)\n",
    "print('Speed difference: {:0.1f}x'.format(t1 / t2))"
   ]
  },
  {
   "cell_type": "markdown",
   "id": "480e68ad",
   "metadata": {},
   "source": [
    "## 5. non-vectorized vs vectorized code"
   ]
  },
  {
   "cell_type": "markdown",
   "id": "bc029053",
   "metadata": {},
   "source": [
    "Vectorization guide: https://realpython.com/numpy-array-programming/\n",
    "\n"
   ]
  },
  {
   "cell_type": "markdown",
   "id": "4fe1cac3",
   "metadata": {},
   "source": [
    "This will take an array representing M points in N dimensions, and return the M x M matrix of pairwise distances. This is a nice test function for a few reasons. First of all, it's a very clean and well-defined test. Second of all, it illustrates the kind of array-based operation that is common in statistics, datamining, and machine learning. Third, it is a function that results in large memory consumption if the standard numpy broadcasting approach is used (it requires a temporary array containing M * M * N elements), making it a good candidate for an alternate approach."
   ]
  },
  {
   "cell_type": "code",
   "execution_count": 7,
   "id": "fb05989f",
   "metadata": {},
   "outputs": [
    {
     "name": "stdout",
     "output_type": "stream",
     "text": [
      "[[0.50242489 0.17970434 0.27677217]\n",
      " [0.02365    0.24098798 0.6849179 ]\n",
      " [0.54919357 0.99403727 0.40053637]\n",
      " ...\n",
      " [0.44405792 0.15009429 0.83797054]\n",
      " [0.50183771 0.81814624 0.62062579]\n",
      " [0.51114686 0.73207088 0.77506034]]\n"
     ]
    }
   ],
   "source": [
    "X = np.random.random((1000, 3))\n",
    "print(X)"
   ]
  },
  {
   "cell_type": "markdown",
   "id": "8c995431",
   "metadata": {},
   "source": [
    "### Python For Loop"
   ]
  },
  {
   "cell_type": "code",
   "execution_count": 4,
   "id": "f27549e6",
   "metadata": {},
   "outputs": [
    {
     "name": "stdout",
     "output_type": "stream",
     "text": [
      "2.15 s ± 6.83 ms per loop (mean ± std. dev. of 7 runs, 1 loop each)\n"
     ]
    }
   ],
   "source": [
    "def pairwise_python(X):\n",
    "    M = X.shape[0]\n",
    "    N = X.shape[1]\n",
    "    D = np.empty((M, M), dtype=float)\n",
    "    for i in range(M):\n",
    "        for j in range(M):\n",
    "            d = 0.0\n",
    "            for k in range(N):\n",
    "                tmp = X[i, k] - X[j, k]\n",
    "                d += tmp * tmp\n",
    "            D[i, j] = np.sqrt(d)\n",
    "    return D\n",
    "%timeit pairwise_python(X)"
   ]
  },
  {
   "cell_type": "code",
   "execution_count": 37,
   "id": "422096db",
   "metadata": {},
   "outputs": [],
   "source": [
    "%lprun -f pairwise_python pairwise_python(X)"
   ]
  },
  {
   "cell_type": "code",
   "execution_count": 5,
   "id": "5bb2c553",
   "metadata": {},
   "outputs": [
    {
     "name": "stdout",
     "output_type": "stream",
     "text": [
      "24.6 ms ± 439 µs per loop (mean ± std. dev. of 7 runs, 10 loops each)\n"
     ]
    }
   ],
   "source": [
    "def pairwise_numpy(X):\n",
    "    return np.sqrt(((X[:, None, :] - X) ** 2).sum(-1))\n",
    "%timeit pairwise_numpy(X)"
   ]
  },
  {
   "cell_type": "code",
   "execution_count": 6,
   "id": "a25c832c",
   "metadata": {},
   "outputs": [
    {
     "name": "stdout",
     "output_type": "stream",
     "text": [
      "3.9 ms ± 34.1 µs per loop (mean ± std. dev. of 7 runs, 100 loops each)\n"
     ]
    }
   ],
   "source": [
    "from sklearn.metrics import euclidean_distances\n",
    "%timeit euclidean_distances(X, X)"
   ]
  },
  {
   "cell_type": "code",
   "execution_count": null,
   "id": "681cf3a8",
   "metadata": {},
   "outputs": [],
   "source": []
  }
 ],
 "metadata": {
  "kernelspec": {
   "display_name": "Python 3.8.8 64-bit (conda)",
   "language": "python",
   "name": "python388jvsc74a57bd03067ead486e059ec00ffe7555bdb889e6e264a24dc711bf108106cc7baee8d5d"
  },
  "language_info": {
   "codemirror_mode": {
    "name": "ipython",
    "version": 3
   },
   "file_extension": ".py",
   "mimetype": "text/x-python",
   "name": "python",
   "nbconvert_exporter": "python",
   "pygments_lexer": "ipython3",
   "version": "3.8.8"
  }
 },
 "nbformat": 4,
 "nbformat_minor": 5
}
