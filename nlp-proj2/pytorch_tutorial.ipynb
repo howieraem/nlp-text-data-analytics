{
  "cells": [
    {
      "cell_type": "code",
      "execution_count": null,
      "metadata": {
        "id": "vYFLhXnR5SX6"
      },
      "outputs": [],
      "source": [
        "# PyTorch tutorial\n",
        "\n",
        "# PyTorch is a machine learning library that gives us two gifts\n",
        "# 1) Tensors (high-dim matrices) powered by GPU\n",
        "# 2) Neural networks powered by autodifferentiation (backprop done for you)\n",
        "\n",
        "# Documentation: https://pytorch.org/docs/stable/index.html\n",
        "\n",
        "#References:\n",
        "# Deeplizard's Neural Network Programming \n",
        "#the detailed tutorial can be found here https://deeplizard.com/learn/playlist/PLZbbT5o_s2xrfNyHZsM6ufI0iZENK9xgG\n",
        "# python-engineer's PyTorch tutorial: https://github.com/python-engineer/pytorchTutorial\n",
        "# Srijith Rajamohan's word2vec implementation in PyTorch (CBOW, SG): https://srijithr.gitlab.io/post/word2vec/"
      ]
    },
    {
      "cell_type": "code",
      "execution_count": null,
      "metadata": {
        "id": "sYu093on5SYA"
      },
      "outputs": [],
      "source": [
        "import matplotlib.pyplot as plt\n",
        "import numpy as np\n",
        "import torch\n",
        "import torch.nn as nn\n",
        "import torch.nn.functional as F\n",
        "import torch.optim as optim\n",
        "import numpy as np\n",
        "import urllib.request\n",
        "from nltk.tokenize import RegexpTokenizer\n",
        "from nltk.corpus import stopwords\n",
        "from nltk import word_tokenize\n",
        "import sklearn\n",
        "from sklearn.cluster import KMeans\n",
        "from sklearn.metrics.pairwise import euclidean_distances"
      ]
    },
    {
      "cell_type": "markdown",
      "metadata": {
        "id": "RWQ-THHDS3gs"
      },
      "source": [
        "# Pytorch Data Structures"
      ]
    },
    {
      "cell_type": "markdown",
      "metadata": {
        "id": "DMksbnIeUS-s"
      },
      "source": [
        "**Tensor**: A generalization of scalars, vectors, matrices, ...\n",
        "\n",
        "**Rank**: number of dimensions present within the tensor.\n",
        "\n",
        "**Axis**: a specific dimension of a tensor.\n"
      ]
    },
    {
      "cell_type": "markdown",
      "metadata": {
        "id": "kijDsL9dXQ9i"
      },
      "source": [
        "\"Length Of An Axis tells us how many indexes are available along each axis\""
      ]
    },
    {
      "cell_type": "markdown",
      "metadata": {
        "id": "NJdwbdkieL_X"
      },
      "source": [
        "## Understanding tensors"
      ]
    },
    {
      "cell_type": "code",
      "execution_count": null,
      "metadata": {
        "colab": {
          "base_uri": "https://localhost:8080/"
        },
        "id": "quPCThmZ5SYB",
        "outputId": "b43f4c2a-cbee-41f5-c8db-4ae41425a996"
      },
      "outputs": [
        {
          "name": "stdout",
          "output_type": "stream",
          "text": [
            "tensor([0.4949])\n",
            "tensor([0.9607, 0.8121, 0.0107, 0.0293, 0.0391])\n",
            "tensor([[0.3530, 0.6742, 0.4603, 0.2955],\n",
            "        [0.5086, 0.9686, 0.3841, 0.2667]])\n",
            "tensor([[[[0.1812, 0.8004],\n",
            "          [0.6736, 0.6264]],\n",
            "\n",
            "         [[0.5456, 0.7868],\n",
            "          [0.1551, 0.5023]]],\n",
            "\n",
            "\n",
            "        [[[0.3425, 0.2995],\n",
            "          [0.4833, 0.3866]],\n",
            "\n",
            "         [[0.2595, 0.9813],\n",
            "          [0.6798, 0.2350]]]])\n"
          ]
        }
      ],
      "source": [
        "x = torch.rand(1) # scalar 1x1 #different from the scalar of rank zero\n",
        "print(x)\n",
        "\n",
        "x = torch.rand(5) # vector 1x5\n",
        "print(x)\n",
        "\n",
        "x = torch.rand(2,4) # matrix 2x4\n",
        "print(x)\n",
        "\n",
        "x = torch.rand(2,2,2,2) #tensor 2x2x2x2\n",
        "print(x)\n",
        "\n",
        "# all zeros\n",
        "x = torch.zeros(2,2)\n",
        "# negatives okay\n",
        "x = torch.randn(2,2)\n",
        "# ints only!\n",
        "x = torch.randint(2,3,size=(2,3))\n",
        "x = torch.ones(2,2)"
      ]
    },
    {
      "cell_type": "code",
      "execution_count": null,
      "metadata": {
        "id": "OyHjFIQNdFXj"
      },
      "outputs": [],
      "source": []
    },
    {
      "cell_type": "code",
      "execution_count": null,
      "metadata": {
        "colab": {
          "base_uri": "https://localhost:8080/"
        },
        "id": "szsPb6mITrgt",
        "outputId": "7263ef72-7f55-4543-b23c-4bbd5a1992ae"
      },
      "outputs": [
        {
          "data": {
            "text/plain": [
              "tensor([[0.4853]])"
            ]
          },
          "execution_count": 40,
          "metadata": {},
          "output_type": "execute_result"
        }
      ],
      "source": [
        "#shapes matter\n",
        "x = torch.rand(1).reshape(1,1)\n",
        "x"
      ]
    },
    {
      "cell_type": "code",
      "execution_count": null,
      "metadata": {
        "colab": {
          "base_uri": "https://localhost:8080/"
        },
        "id": "jIwreAzG5SYC",
        "outputId": "46d6d7cf-2ef8-4430-e223-985c64ce4c9c"
      },
      "outputs": [
        {
          "name": "stdout",
          "output_type": "stream",
          "text": [
            "tensor([[0.9098, 0.7598, 0.2127],\n",
            "        [0.7989, 0.0864, 0.7626],\n",
            "        [0.0841, 0.0679, 0.2153],\n",
            "        [0.7047, 0.3256, 0.9144],\n",
            "        [0.6795, 0.1113, 0.7348]])\n",
            "tensor([0.9098, 0.7989, 0.0841, 0.7047, 0.6795])\n",
            "tensor([0.7989, 0.0864, 0.7626])\n",
            "tensor(0.0864)\n"
          ]
        }
      ],
      "source": [
        "# Operations\n",
        "y = torch.rand(2, 2)\n",
        "x = torch.rand(2, 2)\n",
        "\n",
        "# elementwise addition\n",
        "z = x + y\n",
        "# torch.add(x,y)\n",
        "\n",
        "# substraction\n",
        "z = x - y\n",
        "z = torch.sub(x, y)\n",
        "\n",
        "# multiplication\n",
        "z = x * y\n",
        "z = torch.mul(x,y) #elementwise #must be broadcastable\n",
        "\n",
        "#matrix multiplication\n",
        "tensor1 = torch.randn(3, 4)\n",
        "tensor2 = torch.randn(4, 3)\n",
        "torch.matmul(tensor1, tensor2)\n",
        "\n",
        "# division\n",
        "z = x / y\n",
        "z = torch.div(x,y)\n",
        "\n",
        "# Slicing\n",
        "x = torch.rand(5,3)\n",
        "print(x)\n",
        "print(x[:, 0]) # all rows, column 0\n",
        "print(x[1, :]) # row 1, all columns\n",
        "print(x[1,1]) # element at 1, 1"
      ]
    },
    {
      "cell_type": "code",
      "execution_count": null,
      "metadata": {
        "id": "uIUd4vWlvaRU"
      },
      "outputs": [],
      "source": [
        "#when doing elementwise operations and the two variable tensors do not have the same shape, pytorch will use broadcasting\n",
        "#find more about broadcasting here: https://deeplizard.com/learn/video/QscEWm0QTRY"
      ]
    },
    {
      "cell_type": "code",
      "execution_count": null,
      "metadata": {
        "colab": {
          "base_uri": "https://localhost:8080/"
        },
        "id": "SJOgciiF5SYD",
        "outputId": "de68e3d6-7d3a-438c-e9a1-cab24722ee6f"
      },
      "outputs": [
        {
          "name": "stdout",
          "output_type": "stream",
          "text": [
            "0.08643519878387451\n",
            "<class 'numpy.ndarray'>\n",
            "<class 'torch.Tensor'>\n",
            "<class 'torch.Tensor'>\n"
          ]
        }
      ],
      "source": [
        "\n",
        "\n",
        "# Extract an element\n",
        "print(x[1,1].item())\n",
        "\n",
        "# NumPy conversion\n",
        "x = torch.rand(2,2)\n",
        "y = x.numpy()\n",
        "print(type(y))\n",
        "\n",
        "z1 = torch.from_numpy(y) #sharing the memory space with the numpy ndarray\n",
        "z2 = torch.tensor(y) #a copy\n",
        "print(type(z1))\n",
        "print(type(z2))"
      ]
    },
    {
      "cell_type": "markdown",
      "metadata": {
        "id": "DheqmIiSX_gV"
      },
      "source": [
        "## Pytorch attributes and functions for tensors"
      ]
    },
    {
      "cell_type": "code",
      "execution_count": null,
      "metadata": {
        "colab": {
          "base_uri": "https://localhost:8080/"
        },
        "id": "MwcQ6OBmYg8u",
        "outputId": "8064d5c5-7cc8-44ff-b9be-b4d1e01804f8"
      },
      "outputs": [
        {
          "name": "stdout",
          "output_type": "stream",
          "text": [
            "torch.Size([2, 2])\n",
            "cpu\n"
          ]
        }
      ],
      "source": [
        "print(x.shape)\n",
        "print(x.device)"
      ]
    },
    {
      "cell_type": "markdown",
      "metadata": {
        "id": "hhd9Hj0ie5Kz"
      },
      "source": [
        "### Shape changes\n",
        "**Squeezing** removes the dimensions or axes that have a length of one."
      ]
    },
    {
      "cell_type": "code",
      "execution_count": null,
      "metadata": {
        "colab": {
          "base_uri": "https://localhost:8080/"
        },
        "id": "2D5TIWJ85AUQ",
        "outputId": "d3e58730-2a38-4502-9d6c-06e80344be6e"
      },
      "outputs": [
        {
          "name": "stdout",
          "output_type": "stream",
          "text": [
            "torch.Size([2, 1, 2, 1, 2])\n",
            "torch.Size([2, 2, 2])\n"
          ]
        },
        {
          "data": {
            "text/plain": [
              "torch.Size([2, 2, 1, 2])"
            ]
          },
          "execution_count": 45,
          "metadata": {},
          "output_type": "execute_result"
        }
      ],
      "source": [
        " x = torch.zeros(2, 1, 2, 1, 2)\n",
        " print(x.shape)\n",
        " y = torch.squeeze(x)\n",
        " print(y.shape)\n",
        " torch.squeeze(x, dim=1).shape #can specify which dimension to squeeze"
      ]
    },
    {
      "cell_type": "markdown",
      "metadata": {
        "id": "wizg72QpTQq8"
      },
      "source": [
        "### Autograd"
      ]
    },
    {
      "cell_type": "code",
      "execution_count": null,
      "metadata": {
        "colab": {
          "base_uri": "https://localhost:8080/"
        },
        "id": "UwP9TSblxxG8",
        "outputId": "86c1d7e2-719e-46dd-9440-8344288495f3"
      },
      "outputs": [
        {
          "name": "stdout",
          "output_type": "stream",
          "text": [
            "tensor([20., 30., 50.], dtype=torch.float64)\n"
          ]
        }
      ],
      "source": [
        "# autograd\n",
        "\n",
        "# requires grad equals true lets us compute gradients on the tenor\n",
        "x = torch.tensor([2,3,5], dtype=float, requires_grad=True)\n",
        "y =(5 * x**2).sum()\n",
        "\n",
        "\n",
        "\n",
        "# When we finish our computation we can call .backward() and have all the gradients computed automatically\n",
        "# The gradient for this tensor will be accumulated into .grad attribute\n",
        "y.backward()\n",
        "#print(z.grad) # dz/dz\n",
        "print(x.grad) # dz/dx"
      ]
    },
    {
      "cell_type": "markdown",
      "metadata": {
        "id": "Y0snPIPRZkdJ"
      },
      "source": [
        "caveats\n",
        "* autograd requires computational resources and can take time.\n",
        "\n",
        "* disable autograd for model eval by writing your evaluation code in \n",
        "```\n",
        "with torch.no_grad():\n",
        "```\n",
        "\n"
      ]
    },
    {
      "cell_type": "code",
      "execution_count": null,
      "metadata": {
        "colab": {
          "base_uri": "https://localhost:8080/"
        },
        "id": "SOLCJa4vaLF6",
        "outputId": "de8a5255-ea8e-444c-a50b-162c862bca30"
      },
      "outputs": [
        {
          "name": "stdout",
          "output_type": "stream",
          "text": [
            "True\n",
            "------------------------------------------------------------\n",
            "False\n",
            "True\n",
            "------------------------------------------------------------\n",
            "True\n"
          ]
        }
      ],
      "source": [
        "w=torch.tensor(np.arange(10),requires_grad=True, dtype=float).reshape(2,5)\n",
        "print(w.requires_grad)\n",
        "with torch.no_grad():\n",
        "  print('-'*60)\n",
        "  print((w**2).requires_grad)\n",
        "  print(w.requires_grad)\n",
        "  print('-'*60)\n",
        "print(w.requires_grad)"
      ]
    },
    {
      "cell_type": "markdown",
      "metadata": {
        "id": "OqVvp0L7ecw_"
      },
      "source": [
        "# Neural Nets in Pytorch"
      ]
    },
    {
      "cell_type": "code",
      "execution_count": null,
      "metadata": {
        "colab": {
          "base_uri": "https://localhost:8080/"
        },
        "id": "1QPAHdY05SYE",
        "outputId": "ade5f062-7a2d-464d-8ce9-77381ac21ad5"
      },
      "outputs": [
        {
          "name": "stdout",
          "output_type": "stream",
          "text": [
            "tensor(1., grad_fn=<PowBackward0>)\n",
            "tensor(-2.)\n",
            "tensor(1.0200, requires_grad=True)\n"
          ]
        }
      ],
      "source": [
        "# example of a single forward pass and backpropagation\n",
        "\n",
        "#input: x is 1\n",
        "#output: y is 2\n",
        "x = torch.tensor(1.0)\n",
        "y = torch.tensor(2.0)\n",
        "\n",
        "w = torch.tensor(1.0, requires_grad=True)\n",
        "\n",
        "# forward pass to compute loss\n",
        "y_predicted = w * x\n",
        "loss = (y_predicted - y)**2\n",
        "print(loss)\n",
        "\n",
        "# backward pass to compute gradient dLoss/dw\n",
        "loss.backward() #gradient computation dLoss/dwhatever\n",
        "print(w.grad) #gradient of w, dLoss/dw\n",
        "\n",
        "# update weights\n",
        "# next forward and backward pass...\n",
        "\n",
        "# continue optimizing:\n",
        "# update weights, this operation should not be part of the computational graph\n",
        "with torch.no_grad():\n",
        "    #learning rate times the gradient (a little change in w wrt to the Loss, to make it smaller)\n",
        "    w -= 0.01 * w.grad \n",
        "# don't forget to zero the gradients\n",
        "w.grad.zero_()\n",
        "print(w)"
      ]
    },
    {
      "cell_type": "code",
      "execution_count": null,
      "metadata": {
        "colab": {
          "base_uri": "https://localhost:8080/"
        },
        "id": "mx5qjJJwft1J",
        "outputId": "156cbde6-d57d-4c9e-9a6c-e57f4e3647f1"
      },
      "outputs": [
        {
          "name": "stdout",
          "output_type": "stream",
          "text": [
            "Prediction before training: f(5) = 0.000\n"
          ]
        }
      ],
      "source": [
        "# lets look at an actual model where we do stuff manually\n",
        "\n",
        "# Linear regression\n",
        "# f = w * x \n",
        "# here : f = 2 * x\n",
        "X = np.array([1, 2, 3, 4], dtype=np.float32)\n",
        "Y = np.array([2, 4, 6, 8], dtype=np.float32)\n",
        "w = 0\n",
        "\n",
        "# model output\n",
        "def forward(x):\n",
        "    return w * x\n",
        "\n",
        "# loss = MSE\n",
        "def loss(y, y_pred):\n",
        "    return ((y_pred - y)**2).mean()\n",
        "  \n",
        "# J = MSE = 1/N * (w*x - y)**2\n",
        "# dJ/dw = 1/N * 2x(w*x - y)\n",
        "def gradient(x, y, y_pred):\n",
        "    return np.dot(2*x, y_pred - y).mean()\n",
        "\n",
        "print(f'Prediction before training: f(5) = {forward(5):.3f}')\n",
        "\n",
        "# Training\n",
        "learning_rate = 0.01\n",
        "n_iters = 10\n"
      ]
    },
    {
      "cell_type": "code",
      "execution_count": null,
      "metadata": {
        "colab": {
          "base_uri": "https://localhost:8080/"
        },
        "id": "2Hvd1gT0UJEC",
        "outputId": "c95c5122-f1a2-4f40-a192-eb59301bb301"
      },
      "outputs": [
        {
          "name": "stdout",
          "output_type": "stream",
          "text": [
            "epoch 1: w = 1.200, loss = 30.00000000\n",
            "epoch 3: w = 1.872, loss = 0.76800019\n",
            "epoch 5: w = 1.980, loss = 0.01966083\n",
            "epoch 7: w = 1.997, loss = 0.00050331\n",
            "epoch 9: w = 1.999, loss = 0.00001288\n",
            "Prediction after training: f(5) = 9.999\n"
          ]
        }
      ],
      "source": [
        "for epoch in range(n_iters):\n",
        "    # predict = forward pass\n",
        "    y_pred = forward(X)\n",
        "\n",
        "    # loss\n",
        "    l = loss(Y, y_pred)\n",
        "    \n",
        "    # calculate gradients\n",
        "    dw = gradient(X, Y, y_pred)\n",
        "\n",
        "    # update weights\n",
        "    w -= learning_rate * dw\n",
        "\n",
        "    if epoch % 2 == 0:\n",
        "        print(f'epoch {epoch+1}: w = {w:.3f}, loss = {l:.8f}')\n",
        "     \n",
        "print(f'Prediction after training: f(5) = {forward(5):.3f}')"
      ]
    },
    {
      "cell_type": "code",
      "execution_count": null,
      "metadata": {
        "colab": {
          "base_uri": "https://localhost:8080/"
        },
        "id": "KYyJEgvuUDuN",
        "outputId": "05d2f5fe-07d5-4452-afe7-f7f823b47dec"
      },
      "outputs": [
        {
          "name": "stdout",
          "output_type": "stream",
          "text": [
            "epoch 1: w = 0.300, loss = 30.00000000\n",
            "epoch 3: w = 0.772, loss = 15.66018772\n",
            "epoch 5: w = 1.113, loss = 8.17471695\n",
            "epoch 7: w = 1.359, loss = 4.26725292\n",
            "epoch 9: w = 1.537, loss = 2.22753215\n",
            "Prediction after training: f(5) = 8.031\n"
          ]
        }
      ],
      "source": [
        "# lets replace the manually computed gradient with autograd\n",
        "X = torch.tensor([1,2,3,4], dtype=torch.float32)\n",
        "Y = torch.tensor([2,4,6,8], dtype=torch.float32)\n",
        "w = torch.tensor(0.0, dtype=torch.float32, requires_grad=True)\n",
        "\n",
        "for epoch in range(n_iters):\n",
        "    # predict = forward pass\n",
        "    y_pred = forward(X)\n",
        "\n",
        "    # loss\n",
        "    l = loss(Y, y_pred)\n",
        "\n",
        "    # calculate gradients = backward pass\n",
        "    l.backward() #dl/deverything\n",
        "\n",
        "    #shouldn't be part of the gradient checking!!! this is a separate updating rule\n",
        "    with torch.no_grad():\n",
        "        w -= learning_rate * w.grad #dl/dw\n",
        "    \n",
        "    # zero the gradients after updating\n",
        "    w.grad.zero_()\n",
        "\n",
        "    if epoch % 2 == 0:\n",
        "        print(f'epoch {epoch+1}: w = {w.item():.3f}, loss = {l.item():.8f}')\n",
        "print(f'Prediction after training: f(5) = {forward(5):.3f}')"
      ]
    },
    {
      "cell_type": "code",
      "execution_count": null,
      "metadata": {
        "colab": {
          "base_uri": "https://localhost:8080/"
        },
        "id": "p5lpgK7kUCMP",
        "outputId": "c350c654-e350-402f-842e-03cb416a4739"
      },
      "outputs": [
        {
          "name": "stdout",
          "output_type": "stream",
          "text": [
            "epoch  1 : w =  tensor(1.6063, requires_grad=True)  loss =  tensor(33.4131, grad_fn=<MseLossBackward>)\n",
            "epoch  3 : w =  tensor(1.6063, requires_grad=True)  loss =  tensor(16.0947, grad_fn=<MseLossBackward>)\n",
            "epoch  5 : w =  tensor(1.6063, requires_grad=True)  loss =  tensor(7.7563, grad_fn=<MseLossBackward>)\n",
            "epoch  7 : w =  tensor(1.6063, requires_grad=True)  loss =  tensor(3.7415, grad_fn=<MseLossBackward>)\n",
            "epoch  9 : w =  tensor(1.6063, requires_grad=True)  loss =  tensor(1.8085, grad_fn=<MseLossBackward>)\n",
            "Prediction after training: f(5) = 8.174\n"
          ]
        }
      ],
      "source": [
        "X = torch.tensor([1,2,3,4], dtype=torch.float32)\n",
        "Y = torch.tensor([2,4,6,8], dtype=torch.float32)\n",
        "w = torch.tensor(0.0, dtype=torch.float32, requires_grad=True)\n",
        "\n",
        "#only one layer, this is a little trivial\n",
        "n_samples, n_features = X.shape\n",
        "input_size = n_features\n",
        "output_size = n_features\n",
        "\n",
        "model = nn.Linear(input_size, output_size)\n",
        "\n",
        "'''\n",
        "class LinearRegression(nn.Module):\n",
        "  def __init__(self, in_dim, out_dim):\n",
        "    super(LinearRegression, self).__init__()\n",
        "    self.lin = nn.Linear(in_dim, out_dim)\n",
        "  def forward(self, x):\n",
        "    return self.lin(x)\n",
        "model = LinearRegression(input_size, output_size)\n",
        "'''\n",
        "\n",
        "# mean squared error (implicitly knows (truth, predicted)) - a callable function\n",
        "loss = nn.MSELoss()\n",
        "\n",
        "#stochastic gradient descent, optimize the parameters in the list with the learning rate\n",
        "optimizer = torch.optim.SGD(model.parameters(), lr=learning_rate)\n",
        "# 3) Training loop\n",
        "for epoch in range(n_iters):\n",
        "    # predict = forward pass\n",
        "    y_predicted = model(X)\n",
        "    \n",
        "    # loss\n",
        "    l = loss(Y, y_predicted)\n",
        "\n",
        "    # calculate gradients = backward pass\n",
        "    l.backward()\n",
        "\n",
        "    # update weights\n",
        "    optimizer.step()\n",
        "\n",
        "    # zero the gradients after updating\n",
        "    optimizer.zero_grad()\n",
        "\n",
        "    if epoch % 2 == 0:\n",
        "        print('epoch ', epoch+1, ': w = ', w, ' loss = ', l)\n",
        "\n",
        "print(f'Prediction after training: f(5) = {model(X_test).item():.3f}')"
      ]
    },
    {
      "cell_type": "code",
      "execution_count": null,
      "metadata": {
        "colab": {
          "base_uri": "https://localhost:8080/",
          "height": 316
        },
        "id": "Ytg5aROWVolt",
        "outputId": "ef4992b2-2184-4b1d-d9c0-20fa974071cc"
      },
      "outputs": [
        {
          "name": "stdout",
          "output_type": "stream",
          "text": [
            "[('Empathy', ['for', 'the', 'poor']), ('for', ['the', 'poor', 'may']), ('the', ['poor', 'may', 'not']), ('poor', ['may', 'not', 'come']), ('may', ['not', 'come', 'easily']), ('not', ['come', 'easily', 'to']), ('come', ['easily', 'to', 'people']), ('easily', ['to', 'people', 'who']), ('to', ['people', 'who', 'never']), ('people', ['who', 'never', 'experienced']), ('who', ['never', 'experienced', 'it.']), ('never', ['experienced', 'it.', 'They']), ('experienced', ['it.', 'They', 'may']), ('it.', ['They', 'may', 'blame']), ('They', ['may', 'blame', 'the']), ('may', ['blame', 'the', 'victims']), ('blame', ['the', 'victims', 'and']), ('the', ['victims', 'and', 'insist']), ('victims', ['and', 'insist', 'their']), ('and', ['insist', 'their', 'predicament']), ('insist', ['their', 'predicament', 'can']), ('their', ['predicament', 'can', 'be']), ('predicament', ['can', 'be', 'overcome']), ('can', ['be', 'overcome', 'through']), ('be', ['overcome', 'through', 'determination']), ('overcome', ['through', 'determination', 'and']), ('through', ['determination', 'and', 'hard']), ('determination', ['and', 'hard', 'work.']), ('and', ['hard', 'work.', 'But']), ('hard', ['work.', 'But', 'they']), ('work.', ['But', 'they', 'may']), ('But', ['they', 'may', 'not']), ('they', ['may', 'not', 'realize']), ('may', ['not', 'realize', 'that']), ('not', ['realize', 'that', 'extreme']), ('realize', ['that', 'extreme', 'poverty']), ('that', ['extreme', 'poverty', 'can']), ('extreme', ['poverty', 'can', 'be']), ('poverty', ['can', 'be', 'psychologically']), ('can', ['be', 'psychologically', 'and']), ('be', ['psychologically', 'and', 'physically']), ('psychologically', ['and', 'physically', 'incapacitating']), ('and', ['physically', 'incapacitating', '—']), ('physically', ['incapacitating', '—', 'a']), ('incapacitating', ['—', 'a', 'perpetual']), ('—', ['a', 'perpetual', 'cycle']), ('a', ['perpetual', 'cycle', 'of']), ('perpetual', ['cycle', 'of', 'bad']), ('cycle', ['of', 'bad', 'diets,']), ('of', ['bad', 'diets,', 'health']), ('bad', ['diets,', 'health', 'care']), ('diets,', ['health', 'care', 'and']), ('health', ['care', 'and', 'education']), ('care', ['and', 'education', 'exacerbated']), ('and', ['education', 'exacerbated', 'by']), ('education', ['exacerbated', 'by', 'the']), ('exacerbated', ['by', 'the', 'shaming']), ('by', ['the', 'shaming', 'and']), ('the', ['shaming', 'and', 'self-fulfilling']), ('shaming', ['and', 'self-fulfilling', 'prophecies']), ('and', ['self-fulfilling', 'prophecies', 'that']), ('self-fulfilling', ['prophecies', 'that', 'define']), ('prophecies', ['that', 'define', 'it']), ('that', ['define', 'it', 'in']), ('define', ['it', 'in', 'the']), ('it', ['in', 'the', 'public']), ('in', ['the', 'public', 'imagination.']), ('the', ['public', 'imagination.', 'Gordon']), ('public', ['imagination.', 'Gordon', 'Parks']), ('imagination.', ['Gordon', 'Parks', '—']), ('Gordon', ['Parks', '—', 'perhaps']), ('Parks', ['—', 'perhaps', 'more']), ('—', ['perhaps', 'more', 'than']), ('perhaps', ['more', 'than', 'any']), ('more', ['than', 'any', 'artist']), ('than', ['any', 'artist', '—']), ('any', ['artist', '—', 'saw']), ('artist', ['—', 'saw', 'poverty']), ('—', ['saw', 'poverty', 'as']), ('saw', ['poverty', 'as', '“the']), ('poverty', ['as', '“the', 'most']), ('as', ['“the', 'most', 'savage']), ('“the', ['most', 'savage', 'of']), ('most', ['savage', 'of', 'all']), ('savage', ['of', 'all', 'human']), ('of', ['all', 'human', 'afflictions”']), ('all', ['human', 'afflictions”', 'and']), ('human', ['afflictions”', 'and', 'realized']), ('afflictions”', ['and', 'realized', 'the']), ('and', ['realized', 'the', 'power']), ('realized', ['the', 'power', 'of']), ('the', ['power', 'of', 'empathy']), ('power', ['of', 'empathy', 'to']), ('of', ['empathy', 'to', 'help']), ('empathy', ['to', 'help', 'us']), ('to', ['help', 'us', 'understand']), ('help', ['us', 'understand', 'it.']), ('us', ['understand', 'it.', 'It']), ('understand', ['it.', 'It', 'was']), ('it.', ['It', 'was', 'neither']), ('It', ['was', 'neither', 'an']), ('was', ['neither', 'an', 'abstract']), ('neither', ['an', 'abstract', 'problem']), ('an', ['abstract', 'problem', 'nor']), ('abstract', ['problem', 'nor', 'political']), ('problem', ['nor', 'political', 'symbol,']), ('nor', ['political', 'symbol,', 'but']), ('political', ['symbol,', 'but', 'something']), ('symbol,', ['but', 'something', 'he']), ('but', ['something', 'he', 'endured']), ('something', ['he', 'endured', 'growing']), ('he', ['endured', 'growing', 'up']), ('endured', ['growing', 'up', 'destitute']), ('growing', ['up', 'destitute', 'in']), ('up', ['destitute', 'in', 'rural']), ('destitute', ['in', 'rural', 'Kansas']), ('in', ['rural', 'Kansas', 'and']), ('rural', ['Kansas', 'and', 'having']), ('Kansas', ['and', 'having', 'spent']), ('and', ['having', 'spent', 'years']), ('having', ['spent', 'years', 'documenting']), ('spent', ['years', 'documenting', 'poverty']), ('years', ['documenting', 'poverty', 'throughout']), ('documenting', ['poverty', 'throughout', 'the']), ('poverty', ['throughout', 'the', 'world,']), ('throughout', ['the', 'world,', 'including']), ('the', ['world,', 'including', 'the']), ('world,', ['including', 'the', 'United']), ('including', ['the', 'United', 'States.']), ('the', ['United', 'States.', 'That']), ('United', ['States.', 'That', 'sensitivity']), ('States.', ['That', 'sensitivity', 'informed']), ('That', ['sensitivity', 'informed', '“Freedom’s']), ('sensitivity', ['informed', '“Freedom’s', 'Fearful']), ('informed', ['“Freedom’s', 'Fearful', 'Foe:']), ('“Freedom’s', ['Fearful', 'Foe:', 'Poverty,”']), ('Fearful', ['Foe:', 'Poverty,”', 'his']), ('Foe:', ['Poverty,”', 'his', 'celebrated']), ('Poverty,”', ['his', 'celebrated', 'photo']), ('his', ['celebrated', 'photo', 'essay']), ('celebrated', ['photo', 'essay', 'published']), ('photo', ['essay', 'published', 'in']), ('essay', ['published', 'in', 'Life']), ('published', ['in', 'Life', 'magazine']), ('in', ['Life', 'magazine', 'in']), ('Life', ['magazine', 'in', 'June']), ('magazine', ['in', 'June', '1961.']), ('in', ['June', '1961.', 'He']), ('June', ['1961.', 'He', 'took']), ('1961.', ['He', 'took', 'readers']), ('He', ['took', 'readers', 'into']), ('took', ['readers', 'into', 'the']), ('readers', ['into', 'the', 'lives']), ('into', ['the', 'lives', 'of']), ('the', ['lives', 'of', 'a']), ('lives', ['of', 'a', 'Brazilian']), ('of', ['a', 'Brazilian', 'boy,']), ('a', ['Brazilian', 'boy,', 'Flavio']), ('Brazilian', ['boy,', 'Flavio', 'da']), ('boy,', ['Flavio', 'da', 'Silva,']), ('Flavio', ['da', 'Silva,', 'and']), ('da', ['Silva,', 'and', 'his']), ('Silva,', ['and', 'his', 'family,']), ('and', ['his', 'family,', 'who']), ('his', ['family,', 'who', 'lived']), ('family,', ['who', 'lived', 'in']), ('who', ['lived', 'in', 'the']), ('lived', ['in', 'the', 'ramshackle']), ('in', ['the', 'ramshackle', 'Catacumba']), ('the', ['ramshackle', 'Catacumba', 'favela']), ('ramshackle', ['Catacumba', 'favela', 'in']), ('Catacumba', ['favela', 'in', 'the']), ('favela', ['in', 'the', 'hills']), ('in', ['the', 'hills', 'outside']), ('the', ['hills', 'outside', 'Rio']), ('hills', ['outside', 'Rio', 'de']), ('outside', ['Rio', 'de', 'Janeiro.']), ('Rio', ['de', 'Janeiro.', 'These']), ('de', ['Janeiro.', 'These', 'stark']), ('Janeiro.', ['These', 'stark', 'photographs']), ('These', ['stark', 'photographs', 'are']), ('stark', ['photographs', 'are', 'the']), ('photographs', ['are', 'the', 'subject']), ('are', ['the', 'subject', 'of']), ('the', ['subject', 'of', 'a']), ('subject', ['of', 'a', 'new']), ('of', ['a', 'new', 'book,']), ('a', ['new', 'book,', '“Gordon']), ('new', ['book,', '“Gordon', 'Parks:']), ('book,', ['“Gordon', 'Parks:', 'The']), ('“Gordon', ['Parks:', 'The', 'Flavio']), ('Parks:', ['The', 'Flavio', 'Story”']), ('The', ['Flavio', 'Story”', '(Steidl/The']), ('Flavio', ['Story”', '(Steidl/The', 'Gordon']), ('Story”', ['(Steidl/The', 'Gordon', 'Parks']), ('(Steidl/The', ['Gordon', 'Parks', 'Foundation),']), ('Gordon', ['Parks', 'Foundation),', 'which']), ('Parks', ['Foundation),', 'which', 'accompanies']), ('Foundation),', ['which', 'accompanies', 'a']), ('which', ['accompanies', 'a', 'traveling']), ('accompanies', ['a', 'traveling', 'exhibition']), ('a', ['traveling', 'exhibition', 'co-organized']), ('traveling', ['exhibition', 'co-organized', 'by']), ('exhibition', ['co-organized', 'by', 'the']), ('co-organized', ['by', 'the', 'Ryerson']), ('by', ['the', 'Ryerson', 'Image']), ('the', ['Ryerson', 'Image', 'Centre']), ('Ryerson', ['Image', 'Centre', 'in']), ('Image', ['Centre', 'in', 'Toronto,']), ('Centre', ['in', 'Toronto,', 'where']), ('in', ['Toronto,', 'where', 'it']), ('Toronto,', ['where', 'it', 'opens']), ('where', ['it', 'opens', 'this']), ('it', ['opens', 'this', 'week,']), ('opens', ['this', 'week,', 'and']), ('this', ['week,', 'and', 'the']), ('week,', ['and', 'the', 'J.']), ('and', ['the', 'J.', 'Paul']), ('the', ['J.', 'Paul', 'Getty']), ('J.', ['Paul', 'Getty', 'Museum.']), ('Paul', ['Getty', 'Museum.', 'Edited']), ('Getty', ['Museum.', 'Edited', 'with']), ('Museum.', ['Edited', 'with', 'texts']), ('Edited', ['with', 'texts', 'by']), ('with', ['texts', 'by', 'the']), ('texts', ['by', 'the', 'exhibition’s']), ('by', ['the', 'exhibition’s', 'co-curators,']), ('the', ['exhibition’s', 'co-curators,', 'Paul']), ('exhibition’s', ['co-curators,', 'Paul', 'Roth']), ('co-curators,', ['Paul', 'Roth', 'and']), ('Paul', ['Roth', 'and', 'Amanda']), ('Roth', ['and', 'Amanda', 'Maddox,']), ('and', ['Amanda', 'Maddox,', 'the']), ('Amanda', ['Maddox,', 'the', 'book']), ('Maddox,', ['the', 'book', 'also']), ('the', ['book', 'also', 'includes']), ('book', ['also', 'includes', 'a']), ('also', ['includes', 'a', 'recent']), ('includes', ['a', 'recent', 'interview']), ('a', ['recent', 'interview', 'with']), ('recent', ['interview', 'with', 'Mr.']), ('interview', ['with', 'Mr.', 'da']), ('with', ['Mr.', 'da', 'Silva']), ('Mr.', ['da', 'Silva', 'and']), ('da', ['Silva', 'and', 'essays']), ('Silva', ['and', 'essays', 'by']), ('and', ['essays', 'by', 'Beatriz']), ('essays', ['by', 'Beatriz', 'Jaguaribe,']), ('by', ['Beatriz', 'Jaguaribe,', 'Maria']), ('Beatriz', ['Jaguaribe,', 'Maria', 'Alice']), ('Jaguaribe,', ['Maria', 'Alice', 'Rezende']), ('Maria', ['Alice', 'Rezende', 'de']), ('Alice', ['Rezende', 'de', 'Carvalho']), ('Rezende', ['de', 'Carvalho', 'and']), ('de', ['Carvalho', 'and', 'Sérgio']), ('Carvalho', ['and', 'Sérgio', 'Burgi.'])]\n",
            "Length of vocabulary 195\n",
            "Empathy ['for', 'the', 'poor']\n",
            "Context id tensor([127])\n"
          ]
        },
        {
          "ename": "AssertionError",
          "evalue": "ignored",
          "output_type": "error",
          "traceback": [
            "\u001b[0;31m---------------------------------------------------------------------------\u001b[0m",
            "\u001b[0;31mAssertionError\u001b[0m                            Traceback (most recent call last)",
            "\u001b[0;32m<ipython-input-55-7195bcf20310>\u001b[0m in \u001b[0;36m<module>\u001b[0;34m()\u001b[0m\n\u001b[1;32m     97\u001b[0m         \u001b[0;31m# Get the Python number from a 1-element Tensor by calling tensor.item()\u001b[0m\u001b[0;34m\u001b[0m\u001b[0;34m\u001b[0m\u001b[0;34m\u001b[0m\u001b[0m\n\u001b[1;32m     98\u001b[0m         \u001b[0mtotal_loss\u001b[0m \u001b[0;34m+=\u001b[0m \u001b[0mloss\u001b[0m\u001b[0;34m.\u001b[0m\u001b[0mitem\u001b[0m\u001b[0;34m(\u001b[0m\u001b[0;34m)\u001b[0m\u001b[0;34m\u001b[0m\u001b[0;34m\u001b[0m\u001b[0m\n\u001b[0;32m---> 99\u001b[0;31m         \u001b[0;32massert\u001b[0m \u001b[0;32mFalse\u001b[0m\u001b[0;34m\u001b[0m\u001b[0;34m\u001b[0m\u001b[0m\n\u001b[0m\u001b[1;32m    100\u001b[0m     \u001b[0mprint\u001b[0m\u001b[0;34m(\u001b[0m\u001b[0mtotal_loss\u001b[0m\u001b[0;34m)\u001b[0m\u001b[0;34m\u001b[0m\u001b[0;34m\u001b[0m\u001b[0m\n",
            "\u001b[0;31mAssertionError\u001b[0m: "
          ]
        }
      ],
      "source": [
        "torch.manual_seed(1)\n",
        "\n",
        "CONTEXT_SIZE = 3\n",
        "EMBEDDING_DIM = 10\n",
        "\n",
        "\n",
        "test_sentence = \"\"\"Empathy for the poor may not come easily to people who never experienced it. They may blame the victims and insist their predicament can be overcome through determination and hard work.\n",
        "But they may not realize that extreme poverty can be psychologically and physically incapacitating — a perpetual cycle of bad diets, health care and education exacerbated by the shaming and self-fulfilling prophecies that define it in the public imagination.\n",
        "Gordon Parks — perhaps more than any artist — saw poverty as “the most savage of all human afflictions” and realized the power of empathy to help us understand it. It was neither an abstract problem nor political symbol, but something he endured growing up destitute in rural Kansas and having spent years documenting poverty throughout the world, including the United States.\n",
        "That sensitivity informed “Freedom’s Fearful Foe: Poverty,” his celebrated photo essay published in Life magazine in June 1961. He took readers into the lives of a Brazilian boy, Flavio da Silva, and his family, who lived in the ramshackle Catacumba favela in the hills outside Rio de Janeiro. These stark photographs are the subject of a new book, “Gordon Parks: The Flavio Story” (Steidl/The Gordon Parks Foundation), which accompanies a traveling exhibition co-organized by the Ryerson Image Centre in Toronto, where it opens this week, and the J. Paul Getty Museum. Edited with texts by the exhibition’s co-curators, Paul Roth and Amanda Maddox, the book also includes a recent interview with Mr. da Silva and essays by Beatriz Jaguaribe, Maria Alice Rezende de Carvalho and Sérgio Burgi.\n",
        "\"\"\".split()\n",
        "\n",
        "ngrams = []\n",
        "for i in range(len(test_sentence) - CONTEXT_SIZE):\n",
        "    tup = [test_sentence[j] for j in np.arange(i + 1 , i + CONTEXT_SIZE + 1) ]\n",
        "    ngrams.append((test_sentence[i],tup))\n",
        "# print the first 3, just so you can see what they look like\n",
        "print(ngrams)\n",
        "\n",
        "vocab = set(test_sentence)\n",
        "print(\"Length of vocabulary\",len(vocab))\n",
        "word_to_ix = {word: i for i, word in enumerate(vocab)}\n",
        "\n",
        "class SkipgramModeler(nn.Module):\n",
        "\n",
        "    def __init__(self, vocab_size, embedding_dim, context_size):\n",
        "        super(SkipgramModeler, self).__init__()\n",
        "        self.embeddings = nn.Embedding(vocab_size, embedding_dim)\n",
        "        self.linear1 = nn.Linear(embedding_dim, 128)\n",
        "        self.linear2 = nn.Linear(128, context_size * vocab_size)\n",
        "        #self.parameters['context_size'] = context_size\n",
        "\n",
        "    def forward(self, inputs):\n",
        "        embeds = self.embeddings(inputs).view((1, -1))  # -1 implies size inferred for that index from the size of the data\n",
        "        #print(np.mean(np.mean(self.linear2.weight.data.numpy())))\n",
        "        out1 = F.relu(self.linear1(embeds)) # output of first layer\n",
        "        out2 = self.linear2(out1)           # output of second layer\n",
        "        #print(embeds)\n",
        "        log_probs = F.log_softmax(out2, dim=1).view(CONTEXT_SIZE,-1)\n",
        "        return log_probs\n",
        "      \n",
        "    def predict(self,input):\n",
        "        context_idxs = torch.tensor([word_to_ix[input]], dtype=torch.long)\n",
        "        res = self.forward(context_idxs)\n",
        "        res_arg = torch.argmax(res)\n",
        "        res_val, res_ind = res.sort(descending=True)\n",
        "        indices = [res_ind[i][0] for i in np.arange(0,3)]\n",
        "        for arg in indices:\n",
        "            print( [ (key, val) for key,val in word_to_ix.items() if val == arg ])\n",
        "\n",
        "loss_function = nn.NLLLoss()\n",
        "model = SkipgramModeler(len(vocab), EMBEDDING_DIM, CONTEXT_SIZE)\n",
        "optimizer = optim.SGD(model.parameters(), lr=0.001)\n",
        "\n",
        "for epoch in range(550):\n",
        "    total_loss = 0\n",
        "    #------- Embedding layers are trained as well here ----#\n",
        "    #lookup_tensor = torch.tensor([word_to_ix[\"poor\"]], dtype=torch.long)\n",
        "    #hello_embed = model.embeddings(lookup_tensor)\n",
        "    #print(hello_embed)\n",
        "    # -----------------------------------------------------#\n",
        "\n",
        "    #model.predict('psychologically')\n",
        "\n",
        "    for context, target in ngrams:\n",
        "\n",
        "        # Step 1. Prepare the inputs to be passed to the model (i.e, turn the words\n",
        "        # into integer indices and wrap them in tensors)\n",
        "        print(context,target)\n",
        "\n",
        "\n",
        "        context_idxs = torch.tensor([word_to_ix[context]], dtype=torch.long)\n",
        "        print(\"Context id\",context_idxs)\n",
        "\n",
        "        # Step 2. Recall that torch *accumulates* gradients. Before passing in a\n",
        "        # new instance, you need to zero out the gradients from the old\n",
        "        # instance\n",
        "        model.zero_grad()\n",
        "\n",
        "        # Step 3. Run the forward pass, getting log probabilities over next\n",
        "        # words\n",
        "        log_probs = model(context_idxs)\n",
        "        #print(log_probs)\n",
        "\n",
        "        # Step 4. Compute your loss function. (Again, Torch wants the target\n",
        "        # word wrapped in a tensor)\n",
        "        target_list = torch.tensor([word_to_ix[w] for w in target], dtype=torch.long)\n",
        "        loss = loss_function(log_probs, target_list)\n",
        "        #print(loss)\n",
        "\n",
        "        # Step 5. Do the backward pass and update the gradient\n",
        "        loss.backward()\n",
        "        optimizer.step()\n",
        "\n",
        "        # Get the Python number from a 1-element Tensor by calling tensor.item()\n",
        "        total_loss += loss.item()\n",
        "    print(total_loss)"
      ]
    },
    {
      "cell_type": "code",
      "execution_count": null,
      "metadata": {
        "id": "QKaTU7cP9uqL"
      },
      "outputs": [],
      "source": []
    }
  ],
  "metadata": {
    "colab": {
      "collapsed_sections": [],
      "name": "pytorch tutorial.ipynb",
      "provenance": []
    },
    "kernelspec": {
      "display_name": "Python 3",
      "language": "python",
      "name": "python3"
    },
    "language_info": {
      "codemirror_mode": {
        "name": "ipython",
        "version": 3
      },
      "file_extension": ".py",
      "mimetype": "text/x-python",
      "name": "python",
      "nbconvert_exporter": "python",
      "pygments_lexer": "ipython3",
      "version": "3.8.5"
    }
  },
  "nbformat": 4,
  "nbformat_minor": 0
}
